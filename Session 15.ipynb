{
 "cells": [
  {
   "cell_type": "markdown",
   "id": "8dc831e1-93f7-48f7-8133-3c4e7351ccc5",
   "metadata": {},
   "source": [
    "## DECORATORS"
   ]
  },
  {
   "cell_type": "markdown",
   "id": "320d52c4-21ae-49ba-a8e4-2ffa428b4978",
   "metadata": {},
   "source": [
    "A decorator allows you to add new functionality to a function without modifying its structure. Essentially, it lets you wrap a function to enhance or modify its behavior.\n",
    "\n",
    "Meaning they take a function as input and return a new function with additional functionality."
   ]
  },
  {
   "cell_type": "markdown",
   "id": "cafceded-d77a-420b-9a84-e6d36e1ce2dc",
   "metadata": {},
   "source": [
    "- Functions as an objects\n",
    "- Function as an arguments\n",
    "- Functions as an inner or nested Functions (Return functions from other functions)"
   ]
  },
  {
   "cell_type": "code",
   "execution_count": null,
   "id": "6c235121-07ef-4065-becb-f05e38c216a3",
   "metadata": {},
   "outputs": [],
   "source": [
    "def study():\n",
    "    print(\"Ayaan is studying in class 6\")"
   ]
  },
  {
   "cell_type": "code",
   "execution_count": null,
   "id": "372e5f30-0ec8-42b9-8fb2-75c9fb4b4d4f",
   "metadata": {},
   "outputs": [],
   "source": [
    "study()"
   ]
  },
  {
   "cell_type": "code",
   "execution_count": null,
   "id": "9039e7d9-de95-4c88-85e8-854eede4e543",
   "metadata": {},
   "outputs": [],
   "source": [
    "# function as an object\n",
    "name = study \n",
    "name()"
   ]
  },
  {
   "cell_type": "code",
   "execution_count": null,
   "id": "a7db0813-6f46-48e4-ba3b-11769c510390",
   "metadata": {},
   "outputs": [],
   "source": [
    "name = study\n",
    "name"
   ]
  },
  {
   "cell_type": "code",
   "execution_count": null,
   "id": "a5166001-b888-419d-bc41-fb21d2554959",
   "metadata": {},
   "outputs": [],
   "source": [
    "# function as an arguments\n",
    "def subjects(original_function):\n",
    "    print(\"Ayaan is learning maths\")\n",
    "    original_function()\n",
    "    print(\"Ayaan is also learning another subjects\")"
   ]
  },
  {
   "cell_type": "code",
   "execution_count": null,
   "id": "638b62fc-62d5-4214-86f4-400960c07256",
   "metadata": {},
   "outputs": [],
   "source": [
    "subjects(study) #function study used here as an argument"
   ]
  },
  {
   "cell_type": "code",
   "execution_count": null,
   "id": "e08ac2d4-68eb-439d-8db9-248077b62953",
   "metadata": {},
   "outputs": [],
   "source": [
    "def nested_fun():\n",
    "    def inner_func():\n",
    "        return \"Here you called me\"\n",
    "    return inner_func  # Return the function object itself\n",
    "\n",
    "nested_fun()"
   ]
  },
  {
   "cell_type": "code",
   "execution_count": null,
   "id": "8fdc746f-5699-4325-bcd3-38db28c85a43",
   "metadata": {},
   "outputs": [],
   "source": [
    "returned_function = nested_fun()\n",
    "returned_function()"
   ]
  },
  {
   "cell_type": "code",
   "execution_count": null,
   "id": "b1e23d25-6d67-4dd4-8ca0-c13844f3e8d7",
   "metadata": {},
   "outputs": [],
   "source": [
    "def study():\n",
    "    print(\"Ayaan is studying in class 6\")\n",
    "    \n",
    "def subjects(original_function):\n",
    "    def student():\n",
    "        print(\"Ayaan is learning maths\")\n",
    "        original_function()\n",
    "        print(\"Ayaan is also learning another subjects\")\n",
    "    return student"
   ]
  },
  {
   "cell_type": "code",
   "execution_count": null,
   "id": "2689cba4-6f04-4431-a56b-bc0e6732ecad",
   "metadata": {},
   "outputs": [],
   "source": [
    "subjects(study)"
   ]
  },
  {
   "cell_type": "code",
   "execution_count": null,
   "id": "bd5b462b-d16d-4ebb-907f-107c8e899c1c",
   "metadata": {},
   "outputs": [],
   "source": [
    "decorated_fun = subjects(study)"
   ]
  },
  {
   "cell_type": "code",
   "execution_count": null,
   "id": "7dd8b365-73cb-42b9-a5aa-13e63eb58d11",
   "metadata": {},
   "outputs": [],
   "source": [
    "decorated_fun"
   ]
  },
  {
   "cell_type": "code",
   "execution_count": null,
   "id": "a48befb1-d572-43e9-91c1-a148d3b09c65",
   "metadata": {},
   "outputs": [],
   "source": [
    "decorated_fun()"
   ]
  },
  {
   "cell_type": "markdown",
   "id": "2ee7125e-01af-4d8f-8aca-3bef30307a7e",
   "metadata": {},
   "source": [
    "#### Syntatic Sugar concept in decorator"
   ]
  },
  {
   "cell_type": "markdown",
   "id": "eeb65eb5-2108-4082-beaa-570cc18cd146",
   "metadata": {},
   "source": [
    "Syntactic sugar is syntax within a programming language that makes code easier to write, read, and understand.\n",
    "It doesn’t add new functionality to the language; it just makes the language more user-friendly by providing shorthand ways of writing things."
   ]
  },
  {
   "cell_type": "code",
   "execution_count": null,
   "id": "412da13c-e8bf-4ce8-a45d-064833ad2b7a",
   "metadata": {},
   "outputs": [],
   "source": [
    "x = 5 #without syntatic sugar\n",
    "x = x + 3\n",
    "print(x)  # Output: 8\n"
   ]
  },
  {
   "cell_type": "code",
   "execution_count": null,
   "id": "6e1fe192-3fb6-4667-9125-0d774f088e69",
   "metadata": {},
   "outputs": [],
   "source": [
    "x = 5 #with syntatic sugar\n",
    "x += 3\n",
    "print(x)  # Output: 8\n"
   ]
  },
  {
   "cell_type": "code",
   "execution_count": null,
   "id": "fd2f0a90-d814-4c88-83cd-225e07c477dc",
   "metadata": {},
   "outputs": [],
   "source": [
    "def study(): #Without Syntactic Sugar:\n",
    "    print(\"Ayaan is studying in class 6\")\n",
    "    \n",
    "def subjects(original_function):\n",
    "    def student():\n",
    "        print(\"Ayaan is learning maths\")\n",
    "        original_function()\n",
    "        print(\"Ayaan is also learning another subjects\")\n",
    "    return student"
   ]
  },
  {
   "cell_type": "code",
   "execution_count": null,
   "id": "c0b99275-3ae7-4760-bf12-2b54e7454505",
   "metadata": {},
   "outputs": [],
   "source": [
    "@subjects    #With Syntactic Sugar:\n",
    "def study():\n",
    "    print(\"Ayaan is studying in class 6\")\n",
    "\n",
    "study()"
   ]
  },
  {
   "cell_type": "code",
   "execution_count": null,
   "id": "6f8e0ca5-fdf0-4c14-8b06-16b166bb394e",
   "metadata": {},
   "outputs": [],
   "source": [
    "def add():\n",
    "    print(\"Add both values:\", 5+6)\n",
    "    \n",
    "def BODMAS(value):\n",
    "    def subtract():\n",
    "        print(\"subtract the value: \", 10-4)\n",
    "        value()\n",
    "        print(\"I am doing all exercise by using BODMAS rule\")\n",
    "    return subtract"
   ]
  },
  {
   "cell_type": "code",
   "execution_count": null,
   "id": "a548f5df-64fd-4eed-bc9a-518ed9c29fc2",
   "metadata": {},
   "outputs": [],
   "source": [
    "func_call = BODMAS(add)\n",
    "func_call()"
   ]
  },
  {
   "cell_type": "code",
   "execution_count": null,
   "id": "c101850b-d764-480b-b834-5c7e23608b77",
   "metadata": {},
   "outputs": [],
   "source": [
    "@BODMAS   # BODMAS(add)\n",
    "def add():\n",
    "    print(\"Add both values:\", 5+6)"
   ]
  },
  {
   "cell_type": "code",
   "execution_count": null,
   "id": "e5ea476b-3d7b-4c50-9e91-89f4fd3b842e",
   "metadata": {},
   "outputs": [],
   "source": [
    "add()\n"
   ]
  },
  {
   "cell_type": "code",
   "execution_count": null,
   "id": "36c1fa33-18e0-436b-94e4-6ed90a9fcf50",
   "metadata": {},
   "outputs": [],
   "source": [
    "def add():\n",
    "    print(\"Add both values:\", 5+6)\n",
    "    \n",
    "def BODMAS(value):\n",
    "    def subtract():\n",
    "        print(\"subtract the value: \", 10-4)\n",
    "        value()\n",
    "        print(\"I am doing all exercise by using BODMAS rule\")\n",
    "        \n",
    "    def division():\n",
    "        print(\"division\" , 10/2)\n",
    "        value()\n",
    "        print(\"I am doing all exercise by using BODMAS rule\")\n",
    "#     return subtract\n",
    "    return division"
   ]
  },
  {
   "cell_type": "code",
   "execution_count": null,
   "id": "40a81fd5-dadf-441b-bb6f-b41dd7760fe6",
   "metadata": {},
   "outputs": [],
   "source": [
    "func_call = BODMAS(add)\n",
    "func_call()"
   ]
  },
  {
   "cell_type": "code",
   "execution_count": null,
   "id": "7431cedf-456a-424d-af76-f9437c3ce5f8",
   "metadata": {},
   "outputs": [],
   "source": [
    "@BODMAS\n",
    "def add():\n",
    "    print(\"Add both values:\", 5+6)\n",
    "add()"
   ]
  },
  {
   "cell_type": "code",
   "execution_count": null,
   "id": "d5534462-03d4-4192-80e5-0b41282c239b",
   "metadata": {},
   "outputs": [],
   "source": [
    "def study(result):\n",
    "    print(f\"my this class result is {result}%\")\n",
    "study(90)"
   ]
  },
  {
   "cell_type": "code",
   "execution_count": null,
   "id": "5bb4f552-552c-4d6b-94c5-44be26d4ffe9",
   "metadata": {},
   "outputs": [],
   "source": [
    "# Decorator Function\n",
    "def subjects(original_function):\n",
    "    def student():\n",
    "        print(\"Ayaan is learning maths\")\n",
    "        original_function()\n",
    "        print(\"Ayaan is also learning another subjects\")\n",
    "    return student\n",
    "\n",
    "\n",
    "# Decorated Function\n",
    "@subjects\n",
    "def study(result):\n",
    "    print(f\"my this class result is {result}%\")\n",
    "study(90)"
   ]
  },
  {
   "cell_type": "code",
   "execution_count": null,
   "id": "f21c0a1f-3d53-42cd-b94f-6b04263bb186",
   "metadata": {},
   "outputs": [],
   "source": [
    "# Decorator Function\n",
    "def subjects(original_function):\n",
    "    def student(args):\n",
    "        print(\"Ayaan is learning maths\")\n",
    "        original_function(args)\n",
    "        print(\"Ayaan is also learning another subjects\")\n",
    "    return student\n",
    "\n",
    "\n",
    "# Decorated Function\n",
    "@subjects\n",
    "def study(result):\n",
    "    print(f\"my this class result is {result}%\")\n",
    "study(90)"
   ]
  },
  {
   "cell_type": "code",
   "execution_count": null,
   "id": "7673bfa5-08f9-43ab-bad4-10debbe11e38",
   "metadata": {},
   "outputs": [],
   "source": [
    "# Decorator Function\n",
    "def subjects(original_function):\n",
    "    def student(arg):\n",
    "        print(\"Ayaan is learning maths\")\n",
    "        original_function(arg)\n",
    "        print(\"Ayaan is also learning another subjects\")\n",
    "    return student\n",
    "\n",
    "\n",
    "# Decorated Function\n",
    "@subjects\n",
    "def study(result, per):\n",
    "    print(f\"my this class result is {result}% and next time InshaAllah will get{per}%\")\n",
    "study(90,99)"
   ]
  },
  {
   "cell_type": "code",
   "execution_count": null,
   "id": "5090c0e1-5b2b-4485-bd8f-4b8e9ad6d265",
   "metadata": {},
   "outputs": [],
   "source": [
    "# Decorator Function\n",
    "def subjects(original_function):\n",
    "    def student(*args):\n",
    "        print(\"Ayaan is learning maths\")\n",
    "        original_function(*args)\n",
    "        print(\"Ayaan is also learning another subjects\")\n",
    "    return student\n",
    "\n",
    "\n",
    "# Decorated Function\n",
    "@subjects\n",
    "\n",
    "def study(result, per):\n",
    "    print(f\"my this class result is {result}% and next time InshaAllah will get {per}%\")\n",
    "study(90,99)"
   ]
  },
  {
   "cell_type": "code",
   "execution_count": null,
   "id": "a3abe003-63ba-440f-b443-8b967ff034a8",
   "metadata": {},
   "outputs": [],
   "source": [
    "study(result = 70, per = 80)"
   ]
  },
  {
   "cell_type": "code",
   "execution_count": null,
   "id": "4dfd006e-c461-478a-a082-4ecde91a6fe7",
   "metadata": {},
   "outputs": [],
   "source": [
    "# Decorator Function\n",
    "def subjects(original_function):\n",
    "    def student(*args,**kwargs):\n",
    "        print(\"Ayaan is learning maths\")\n",
    "        original_function(*args,**kwargs)\n",
    "        print(\"Ayaan is also learning another subjects\")\n",
    "    return student\n",
    "\n",
    "\n",
    "# Decorated Function\n",
    "@subjects\n",
    "\n",
    "def study(result, per):\n",
    "    print(f\"my this class result is {result}% and next time InshaAllah will get {per}%\")\n",
    "study(90,99) # Positional argument"
   ]
  },
  {
   "cell_type": "code",
   "execution_count": null,
   "id": "a475371d-9704-4545-9cea-2650dc89614e",
   "metadata": {},
   "outputs": [],
   "source": [
    "study(result = 70, per = 80) # Keywords argument\n"
   ]
  },
  {
   "cell_type": "code",
   "execution_count": null,
   "id": "e3d42d3c-ebad-4b05-b20a-290dfc4d3f10",
   "metadata": {},
   "outputs": [],
   "source": [
    "# Decorator Function\n",
    "def subjects(original_function):\n",
    "    def student(*args,**kwargs):\n",
    "        print(\"Ayaan is learning maths\")\n",
    "        original_function(*args,**kwargs)\n",
    "        print(\"Ayaan is also learning another subjects\")\n",
    "    return student\n",
    "\n",
    "\n",
    "# Decorated Function\n",
    "@subjects\n",
    "\n",
    "def study(result, per):\n",
    "    print(f\"my this class result is {result}% and next time InshaAllah will get {per}%\")\n",
    "\n",
    "# one keyword and one positional argument\n",
    "study(70, per=80)  "
   ]
  },
  {
   "cell_type": "code",
   "execution_count": null,
   "id": "cb02aae8-db8c-44a8-8a2b-a0142f6b9f00",
   "metadata": {},
   "outputs": [],
   "source": []
  },
  {
   "cell_type": "code",
   "execution_count": null,
   "id": "123a4ea2-7aef-4300-b125-92b3b7ef51fe",
   "metadata": {},
   "outputs": [],
   "source": []
  },
  {
   "cell_type": "code",
   "execution_count": null,
   "id": "904e230b-efab-4bb0-929c-00b0580af2ac",
   "metadata": {},
   "outputs": [],
   "source": []
  },
  {
   "cell_type": "code",
   "execution_count": null,
   "id": "f5c034c9-4ba9-4550-847c-d9f88419bce8",
   "metadata": {},
   "outputs": [],
   "source": []
  },
  {
   "cell_type": "code",
   "execution_count": null,
   "id": "6bcf6e29-05ad-4b79-a10f-2fc0c975a181",
   "metadata": {},
   "outputs": [],
   "source": []
  },
  {
   "cell_type": "code",
   "execution_count": null,
   "id": "7b59b08b-dad3-472b-86a1-82cfb2135417",
   "metadata": {},
   "outputs": [],
   "source": []
  },
  {
   "cell_type": "code",
   "execution_count": null,
   "id": "4f895620-1902-4220-aafa-0d6e3c88d0de",
   "metadata": {},
   "outputs": [],
   "source": []
  },
  {
   "cell_type": "markdown",
   "id": "4692e6b7-4d14-4d90-86df-72e2b9df6b8c",
   "metadata": {},
   "source": [
    "### Chaining Decorators / nested"
   ]
  },
  {
   "cell_type": "code",
   "execution_count": null,
   "id": "3a65dcbd-9b4f-4d16-ba18-a96ed211ad56",
   "metadata": {},
   "outputs": [],
   "source": [
    "def decorator_one(func):\n",
    "    def wrapper():\n",
    "        print(\"Decorator One\")\n",
    "        func()\n",
    "    return wrapper\n",
    "\n",
    "def decorator_two(func):\n",
    "    def wrapper():\n",
    "        print(\"Decorator Two\")\n",
    "        func()\n",
    "    return wrapper\n",
    "\n",
    "@decorator_one #2nd\n",
    "@decorator_two #1st\n",
    "def say_hello():\n",
    "    print(\"Hello!\")\n",
    "\n",
    "say_hello()\n"
   ]
  },
  {
   "cell_type": "code",
   "execution_count": null,
   "id": "ad2e0dcc-1f6b-4404-af99-a218ba9a4452",
   "metadata": {},
   "outputs": [],
   "source": [
    "# Order of Execution of Decorators\n",
    "@decorator_two\n",
    "@decorator_one\n",
    "def say_hello():\n",
    "    print(\"Hello!\")\n",
    "\n",
    "say_hello()\n"
   ]
  },
  {
   "cell_type": "code",
   "execution_count": null,
   "id": "6794f447-85fa-407c-92f3-d69e492ec7c1",
   "metadata": {},
   "outputs": [],
   "source": [
    "# Chaining Decorators with Arguments\n",
    "\n",
    "def decorator1(message):\n",
    "    def wrapper(func):\n",
    "        def wrapped():\n",
    "            print(f\"Decorator 1 says: {message}\")\n",
    "            func()\n",
    "        return wrapped\n",
    "    return wrapper\n",
    "\n",
    "def decorator2(message):\n",
    "    def wrapper(func):\n",
    "        def wrapped():\n",
    "            print(f\"Decorator 2 says: {message}\")\n",
    "            func()\n",
    "        return wrapped\n",
    "    return wrapper\n",
    "\n",
    "@decorator1(\"Hello from decorator 1!\")\n",
    "@decorator2(\"Hello from decorator 2!\")\n",
    "def greet():\n",
    "    print(\"Hello!\")\n",
    "\n",
    "greet()\n"
   ]
  },
  {
   "cell_type": "markdown",
   "id": "ca8f08b7-b289-4bcf-9f6d-98c5f7b1d664",
   "metadata": {},
   "source": [
    "### Most Commonly used Built-in Decorators"
   ]
  },
  {
   "cell_type": "markdown",
   "id": "1b2334c9-86c7-45d7-95e6-a49ea5de055d",
   "metadata": {},
   "source": [
    "@staticmethod A static method does not require access to the instance or the class itself. It behaves like a regular function but is scoped within the class"
   ]
  },
  {
   "cell_type": "code",
   "execution_count": null,
   "id": "21937374-e57e-4569-bd5e-57cb75ab830b",
   "metadata": {},
   "outputs": [],
   "source": [
    "class MyClass:\n",
    "    @staticmethod\n",
    "    def greet(name):\n",
    "        print(f\"Hello, {name}\")\n",
    "\n",
    "\n",
    "MyClass.greet(\"Alice\")\n"
   ]
  },
  {
   "cell_type": "code",
   "execution_count": null,
   "id": "59e7277c-070e-459e-92eb-0f71a315e962",
   "metadata": {},
   "outputs": [],
   "source": [
    "class MathOperations:\n",
    "    @staticmethod\n",
    "    def add(a, b):\n",
    "        return a + b\n",
    "\n",
    "    @staticmethod\n",
    "    def multiply(a, b):\n",
    "        return a * b\n",
    "\n",
    "sum_result = MathOperations.add(5, 3)\n",
    "product_result = MathOperations.multiply(4, 2)\n",
    "\n",
    "print(f\"Sum: {sum_result}\")\n",
    "print(f\"Product: {product_result}\")\n"
   ]
  },
  {
   "cell_type": "markdown",
   "id": "e84d6354-1d19-43d2-9038-b06ae66e38c3",
   "metadata": {},
   "source": [
    "@classmethod Class methods take the class itself as the first argument (usually named cls). It can be used to modify class-level attributes or call other class methods."
   ]
  },
  {
   "cell_type": "code",
   "execution_count": null,
   "id": "a91abdf4-50ef-49a8-bb82-42b3432c6012",
   "metadata": {},
   "outputs": [],
   "source": [
    "class BankAccount:\n",
    "    interest_rate = 0.05  # Class variable\n",
    "\n",
    "    def __init__(self, balance):\n",
    "        self.balance = balance\n",
    "\n",
    "    @classmethod\n",
    "    def set_interest_rate(cls, rate):\n",
    "        cls.interest_rate = rate\n",
    "        print(f\"Interest rate updated to: {cls.interest_rate * 100:.2f}%\")\n",
    "\n",
    "    def calculate_interest(self):\n",
    "        return self.balance * BankAccount.interest_rate\n",
    "\n",
    "# Using the class method to modify the interest rate\n",
    "BankAccount.set_interest_rate(0.07)\n",
    "\n",
    "account = BankAccount(1000)\n",
    "interest = account.calculate_interest()\n",
    "\n",
    "print(f\"Interest on the balance: ${interest}\")\n"
   ]
  },
  {
   "cell_type": "markdown",
   "id": "2c98e6ff-821d-42eb-9084-75f79a4a6f0b",
   "metadata": {},
   "source": [
    "@property The @property decorator is used to define a method as a getter for an attribute, which can be accessed like an attribute instead of a method."
   ]
  },
  {
   "cell_type": "code",
   "execution_count": null,
   "id": "6fe9f718-0bcb-471c-9b48-dd35f870703f",
   "metadata": {},
   "outputs": [],
   "source": [
    "class Circle:\n",
    "    def __init__(self, radius):\n",
    "        self._radius = radius\n",
    "\n",
    "    @property\n",
    "    def radius(self):\n",
    "        return self._radius\n",
    "\n",
    "    @property\n",
    "    def area(self):\n",
    "        return 3.14 * self._radius ** 2\n",
    "\n",
    "# Using the property\n",
    "circle = Circle(5)\n",
    "print(circle.radius)\n",
    "print(circle.area)\n"
   ]
  },
  {
   "cell_type": "markdown",
   "id": "0a64e78a-1bbd-4a86-9ecf-e13b85333ecc",
   "metadata": {},
   "source": [
    "## Generators"
   ]
  },
  {
   "cell_type": "markdown",
   "id": "3d8d43e4-aa98-4a57-b4b1-f77e1f5b8ec9",
   "metadata": {},
   "source": [
    "Generator is a special kind of function that allows you to iterate over data without needing to store everything in memory at once."
   ]
  },
  {
   "cell_type": "markdown",
   "id": "c7ac13fc-04ea-4cfc-9809-1edfefc84078",
   "metadata": {},
   "source": [
    "A generator does not compute and return all values at once. Instead, it generates values one at a time as they are requested, which is more memory-efficient."
   ]
  },
  {
   "cell_type": "code",
   "execution_count": null,
   "id": "e0aaa593-e7e8-422d-9b81-75c7681721b0",
   "metadata": {},
   "outputs": [],
   "source": [
    "# Return vs Yield\n",
    "\n",
    "def get_squares(numbers):\n",
    "    for n in numbers:\n",
    "        yield n * n\n",
    "\n",
    "gen = get_squares([1, 2, 3, 4])\n",
    "\n",
    "# Get squares one by one\n",
    "print(next(gen))  # Output: 1 next() used to call next iterator\n",
    "print(next(gen))  # Output: 4\n",
    "# print(next(gen))  # Output: 9\n",
    "# print(next(gen))  # Output: 16\n"
   ]
  },
  {
   "cell_type": "code",
   "execution_count": null,
   "id": "cd4373d4-9b52-4239-9baf-c496ef44ad01",
   "metadata": {},
   "outputs": [],
   "source": [
    "def get_squares(numbers):\n",
    "    return [n * n for n in numbers]\n",
    "\n",
    "result = get_squares([1, 2, 3, 4])\n",
    "print(result)  # Output: [1, 4, 9, 16]"
   ]
  },
  {
   "cell_type": "code",
   "execution_count": null,
   "id": "911bad1a-2e9b-48d2-8fea-d741fc238af9",
   "metadata": {},
   "outputs": [],
   "source": [
    "#Generator Expression vs\n",
    "gen_exp = (x for x in range(5))\n",
    "\n",
    "for value in gen_exp:\n",
    "    print(value)"
   ]
  },
  {
   "cell_type": "code",
   "execution_count": null,
   "id": "c3a6ba63-38fc-46e3-93c3-1f865dd84ea1",
   "metadata": {},
   "outputs": [],
   "source": [
    "#memory efficient\n",
    "\n",
    "print(f\"Memory usage of list: {sys.getsizeof(gen_exp)} bytes\")"
   ]
  },
  {
   "cell_type": "code",
   "execution_count": null,
   "id": "14e9ca4e-9837-4016-83a2-18f4ee551913",
   "metadata": {},
   "outputs": [],
   "source": [
    "import sys\n",
    "\n",
    "# Create a large list\n",
    "large_list = [i for i in range(1000000)]\n",
    "\n",
    "# Check the memory usage of the list\n",
    "print(f\"Memory usage of list: {sys.getsizeof(large_list)} bytes\")\n"
   ]
  },
  {
   "cell_type": "code",
   "execution_count": null,
   "id": "8d09a4c0-5d54-4b5d-9b8b-02c554e4e488",
   "metadata": {},
   "outputs": [],
   "source": []
  }
 ],
 "metadata": {
  "kernelspec": {
   "display_name": "Python 3 (ipykernel)",
   "language": "python",
   "name": "python3"
  },
  "language_info": {
   "codemirror_mode": {
    "name": "ipython",
    "version": 3
   },
   "file_extension": ".py",
   "mimetype": "text/x-python",
   "name": "python",
   "nbconvert_exporter": "python",
   "pygments_lexer": "ipython3",
   "version": "3.12.7"
  }
 },
 "nbformat": 4,
 "nbformat_minor": 5
}

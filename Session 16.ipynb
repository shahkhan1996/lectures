{
 "cells": [
  {
   "cell_type": "code",
   "execution_count": 3,
   "id": "466b4372-993f-4f50-8436-4fdb9f45db95",
   "metadata": {},
   "outputs": [],
   "source": [
    "def add():\n",
    "    print(\"Add both values:\", 5+6)\n",
    "    \n",
    "def BODMAS(value):\n",
    "    def subtract():\n",
    "        print(\"subtract the value: \", 10-4)\n",
    "        value()\n",
    "        print(\"I am doing all exercise by using BODMAS rule\")\n",
    "        \n",
    "    def division():\n",
    "        print(\"division\" , 10/2)\n",
    "        value()\n",
    "        print(\"I am doing all exercise by by using BODMAS rule\")\n",
    "        # return subtract\n",
    "    return division"
   ]
  },
  {
   "cell_type": "code",
   "execution_count": 4,
   "id": "24816786-02eb-4ff0-a961-61811abe9403",
   "metadata": {},
   "outputs": [
    {
     "name": "stdout",
     "output_type": "stream",
     "text": [
      "division 5.0\n",
      "Add both values: 11\n",
      "I am doing all exercise by by using BODMAS rule\n"
     ]
    }
   ],
   "source": [
    "func_call = BODMAS(add)\n",
    "func_call()"
   ]
  },
  {
   "cell_type": "code",
   "execution_count": null,
   "id": "ff1462d0-1492-41d5-b607-db57944483a0",
   "metadata": {},
   "outputs": [],
   "source": [
    "def add():\n",
    "    print(\"Add both values:\", 5+6)\n",
    "\n",
    "def BODMAS(value):\n",
    "    def subtract():\n",
    "        print(\"subtract the value: \", 10-4)\n",
    "        value()\n",
    "        print(\"I am doing all exercise by using BODMAS rule\")\n",
    "\n",
    "    def division():\n",
    "        print(\"division\" , 10/2)\n",
    "        subtract()\n",
    "        print(\"I am doing all exercise by by using BODMAS rule\")\n",
    "        # return subtract\n",
    "    return division"
   ]
  },
  {
   "cell_type": "code",
   "execution_count": null,
   "id": "ff81dac6-0bab-4215-97be-1ad3b7ea1da8",
   "metadata": {},
   "outputs": [],
   "source": [
    "func_call = BODMAS(add)\n",
    "func_call()"
   ]
  },
  {
   "cell_type": "code",
   "execution_count": null,
   "id": "679fe9e7-4732-4b7e-a3d2-b01f2709aef4",
   "metadata": {},
   "outputs": [],
   "source": [
    "def add():\n",
    "    print(\"Add both values:\", 5+6)\n",
    "\n",
    "def BODMAS(value):\n",
    "    def subtract():\n",
    "        print(\"subtract the value: \", 10-4)\n",
    "        value()\n",
    "        print(\"I am doing all exercise by using BODMAS rule\")\n",
    "\n",
    "    def division():\n",
    "        print(\"division\" , 10/2)\n",
    "        value()\n",
    "        print(\"I am doing all exercise by by using BODMAS rule\")\n",
    "        return subtract\n",
    "    return division()"
   ]
  },
  {
   "cell_type": "code",
   "execution_count": null,
   "id": "3a83ab9b-6031-496e-a2e9-bf293afe97db",
   "metadata": {},
   "outputs": [],
   "source": [
    "func_call = BODMAS(add)\n",
    "func_call()"
   ]
  },
  {
   "cell_type": "code",
   "execution_count": null,
   "id": "25d93371-1eb6-4b16-907b-7bdbc9c75d7c",
   "metadata": {},
   "outputs": [],
   "source": [
    "def add():\n",
    "    print(\"Add both values:\", 5+6)\n",
    "\n",
    "def BODMAS(value):\n",
    "    def subtract():\n",
    "        print(\"subtract the value: \", 10-4)\n",
    "        value\n",
    "        print(\"I am doing all exercise by using BODMAS rule\")\n",
    "\n",
    "    def division():\n",
    "        print(\"division\" , 10/2)\n",
    "        value\n",
    "        print(\"I am doing all exercise by by using BODMAS rule\")\n",
    "        return subtract\n",
    "    return division()"
   ]
  },
  {
   "cell_type": "code",
   "execution_count": null,
   "id": "a6d5d06d-c687-48e6-bca8-5a9215ffac59",
   "metadata": {},
   "outputs": [],
   "source": [
    "func_call = BODMAS(add)\n",
    "func_call()"
   ]
  },
  {
   "cell_type": "code",
   "execution_count": 7,
   "id": "c459dcb7-e16d-43c3-ba90-5c0d0a4e0e04",
   "metadata": {},
   "outputs": [],
   "source": [
    "def add():\n",
    "    print(\"Add both values:\", 5+6)\n",
    "    \n",
    "def BODMAS(value):\n",
    "    def subtract():\n",
    "        print(\"subtract the value: \", 10-4)\n",
    "        value()\n",
    "        print(\"I am doing all exercise by using BODMAS rule\")\n",
    "        \n",
    "    def division():\n",
    "        print(\"division\" , 10/2)\n",
    "        value()\n",
    "        print(\"I am doing all exercise by by using BODMAS rule\")\n",
    "    return subtract\n",
    "    return division"
   ]
  },
  {
   "cell_type": "code",
   "execution_count": 8,
   "id": "5c499340-d66d-4499-9bc7-869a79b8be81",
   "metadata": {},
   "outputs": [
    {
     "name": "stdout",
     "output_type": "stream",
     "text": [
      "subtract the value:  6\n",
      "Add both values: 11\n",
      "I am doing all exercise by using BODMAS rule\n"
     ]
    }
   ],
   "source": [
    "func_call = BODMAS(add)\n",
    "func_call()"
   ]
  },
  {
   "cell_type": "code",
   "execution_count": null,
   "id": "d50d897d-8bd5-46a1-a1ab-fd74bb358f99",
   "metadata": {},
   "outputs": [],
   "source": [
    "@BODMAS\n",
    "def add(): #BODMAS(add)\n",
    "    print(\"Add both values:\", 5+6)\n",
    "add()"
   ]
  },
  {
   "cell_type": "code",
   "execution_count": 6,
   "id": "ba00d020-1c84-4b67-84dd-148c4c0d1a51",
   "metadata": {},
   "outputs": [
    {
     "name": "stdout",
     "output_type": "stream",
     "text": [
      "my this class result is 90%\n"
     ]
    }
   ],
   "source": [
    "def studyhard(result): #noraml function\n",
    "    print(f\"my this class result is {result}%\")\n",
    "study(90)"
   ]
  },
  {
   "cell_type": "code",
   "execution_count": null,
   "id": "c5b79dc8-09ae-4265-b57a-bce0377aaa5d",
   "metadata": {},
   "outputs": [],
   "source": [
    "# Decorator Function\n",
    "def subjects(original_function):\n",
    "    def student():\n",
    "        print(\"Ayaan is learning maths\")\n",
    "        original_function()\n",
    "        print(\"Ayaan is also learning another subjects\")\n",
    "    return student\n",
    "\n",
    "\n",
    "# Decorated Function\n",
    "@subjects\n",
    "def study(result):\n",
    "    print(f\"my this class result is {result}%\")\n",
    "study(90)"
   ]
  },
  {
   "cell_type": "code",
   "execution_count": null,
   "id": "2b7fc09c-fd97-4e5c-acbb-2fc3c999e11e",
   "metadata": {},
   "outputs": [],
   "source": [
    "# Decorator Function\n",
    "def subjects(original_function):\n",
    "    def student(args):\n",
    "        print(\"Ayaan is learning maths\")\n",
    "        original_function(args)\n",
    "        print(\"Ayaan is also learning another subjects\")\n",
    "    return student\n",
    "\n",
    "\n",
    "# Decorated Function\n",
    "@subjects\n",
    "def study(result):\n",
    "    print(f\"my this class result is {result}%\")\n",
    "study(90)"
   ]
  },
  {
   "cell_type": "code",
   "execution_count": null,
   "id": "eccff651-d913-455b-b4d1-c520a1120dbd",
   "metadata": {},
   "outputs": [],
   "source": [
    "# Decorator Function\n",
    "def subjects(original_function):\n",
    "    def student(arg):\n",
    "        print(\"Ayaan is learning maths\")\n",
    "        original_function(arg)\n",
    "        print(\"Ayaan is also learning another subjects\")\n",
    "    return student\n",
    "\n",
    "\n",
    "# Decorated Function\n",
    "@subjects\n",
    "def study(result, per):\n",
    "    print(f\"my this class result is {result}% and next time InshaAllah will get{per}%\")\n",
    "study(90,99)"
   ]
  },
  {
   "cell_type": "code",
   "execution_count": 9,
   "id": "d009c072-5c6b-4866-891a-b84e9af62501",
   "metadata": {},
   "outputs": [
    {
     "name": "stdout",
     "output_type": "stream",
     "text": [
      "Ayaan is learning maths\n",
      "my this class result is 90% and next time InshaAllah will get 99%\n",
      "Ayaan is also learning another subjects\n"
     ]
    }
   ],
   "source": [
    "# Decorator Function\n",
    "def subjects(original_function):\n",
    "    def student(*args):\n",
    "        print(\"Ayaan is learning maths\")\n",
    "        original_function(*args)\n",
    "        print(\"Ayaan is also learning another subjects\")\n",
    "    return student\n",
    "\n",
    "\n",
    "# Decorated Function\n",
    "@subjects\n",
    "\n",
    "def study(result, per):\n",
    "    print(f\"my this class result is {result}% and next time InshaAllah will get {per}%\")\n",
    "study(90,99)"
   ]
  },
  {
   "cell_type": "code",
   "execution_count": 10,
   "id": "7ecbb044-31c6-4147-b08c-5c684530c592",
   "metadata": {},
   "outputs": [
    {
     "ename": "TypeError",
     "evalue": "subjects.<locals>.student() got an unexpected keyword argument 'result'",
     "output_type": "error",
     "traceback": [
      "\u001b[1;31m---------------------------------------------------------------------------\u001b[0m",
      "\u001b[1;31mTypeError\u001b[0m                                 Traceback (most recent call last)",
      "Cell \u001b[1;32mIn[10], line 1\u001b[0m\n\u001b[1;32m----> 1\u001b[0m study(result \u001b[38;5;241m=\u001b[39m \u001b[38;5;241m70\u001b[39m, per \u001b[38;5;241m=\u001b[39m \u001b[38;5;241m80\u001b[39m)\n",
      "\u001b[1;31mTypeError\u001b[0m: subjects.<locals>.student() got an unexpected keyword argument 'result'"
     ]
    }
   ],
   "source": [
    "study(result = 70, per = 80)"
   ]
  },
  {
   "cell_type": "code",
   "execution_count": 11,
   "id": "15943672-b5a5-40c3-87ed-aa350f21098b",
   "metadata": {},
   "outputs": [
    {
     "name": "stdout",
     "output_type": "stream",
     "text": [
      "Ayaan is learning maths\n",
      "my this class result is 90% and next time InshaAllah will get 99%\n",
      "Ayaan is also learning another subjects\n"
     ]
    }
   ],
   "source": [
    "# Decorator Function\n",
    "def subjects(original_function):\n",
    "    def student(*args,**kwargs):\n",
    "        print(\"Ayaan is learning maths\")\n",
    "        original_function(*args,**kwargs)\n",
    "        print(\"Ayaan is also learning another subjects\")\n",
    "    return student\n",
    "\n",
    "\n",
    "# Decorated Function\n",
    "@subjects\n",
    "\n",
    "def study(result, per):\n",
    "    print(f\"my this class result is {result}% and next time InshaAllah will get {per}%\")\n",
    "study(90,99) # Positional argument"
   ]
  },
  {
   "cell_type": "code",
   "execution_count": 12,
   "id": "8ab21a7d-6f5c-4812-9b83-9ba8b2b6a230",
   "metadata": {},
   "outputs": [
    {
     "name": "stdout",
     "output_type": "stream",
     "text": [
      "Ayaan is learning maths\n",
      "my this class result is 70% and next time InshaAllah will get 80%\n",
      "Ayaan is also learning another subjects\n"
     ]
    }
   ],
   "source": [
    "study(result = 70, per = 80) # Keywords argument"
   ]
  },
  {
   "cell_type": "code",
   "execution_count": 13,
   "id": "46d676a5-22cc-4a8b-8051-6771e1bb6f31",
   "metadata": {},
   "outputs": [
    {
     "name": "stdout",
     "output_type": "stream",
     "text": [
      "Ayaan is learning maths\n",
      "my this class result is 70% and next time InshaAllah will get 80%\n",
      "Ayaan is also learning another subjects\n"
     ]
    }
   ],
   "source": [
    "# Decorator Function\n",
    "def subjects(original_function):\n",
    "    def student(*args,**kwargs):\n",
    "        print(\"Ayaan is learning maths\")\n",
    "        original_function(*args,**kwargs)\n",
    "        print(\"Ayaan is also learning another subjects\")\n",
    "    return student\n",
    "\n",
    "\n",
    "# Decorated Function\n",
    "@subjects\n",
    "\n",
    "def study(result, per):\n",
    "    print(f\"my this class result is {result}% and next time InshaAllah will get {per}%\")\n",
    "\n",
    "# one keyword and one positional argument\n",
    "study(70, per=80)  "
   ]
  },
  {
   "cell_type": "code",
   "execution_count": null,
   "id": "b9299e74-2804-40d1-b009-23e6ba409583",
   "metadata": {},
   "outputs": [],
   "source": []
  },
  {
   "cell_type": "code",
   "execution_count": null,
   "id": "77d9fbb5-45b0-4a53-bf73-666b89ba679a",
   "metadata": {},
   "outputs": [],
   "source": []
  }
 ],
 "metadata": {
  "kernelspec": {
   "display_name": "Python 3 (ipykernel)",
   "language": "python",
   "name": "python3"
  },
  "language_info": {
   "codemirror_mode": {
    "name": "ipython",
    "version": 3
   },
   "file_extension": ".py",
   "mimetype": "text/x-python",
   "name": "python",
   "nbconvert_exporter": "python",
   "pygments_lexer": "ipython3",
   "version": "3.12.7"
  }
 },
 "nbformat": 4,
 "nbformat_minor": 5
}

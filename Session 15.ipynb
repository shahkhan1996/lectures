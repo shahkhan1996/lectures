{
 "cells": [
  {
   "cell_type": "markdown",
   "id": "8dc831e1-93f7-48f7-8133-3c4e7351ccc5",
   "metadata": {},
   "source": [
    "## DECORATORS"
   ]
  },
  {
   "cell_type": "markdown",
   "id": "d1dd7444-b5e7-4e1f-9808-251ccfb8f930",
   "metadata": {},
   "source": [
    "A decorator allows you to add new functionality to a function without modifying its structure. Essentially, it lets you wrap a function to enhance or modify its behavior.\n",
    "\n",
    "Meaning they take a function as input and return a new function with additional functionality."
   ]
  },
  {
   "cell_type": "markdown",
   "id": "3b7bd6cb-8e1c-41ef-bb37-422f39a32166",
   "metadata": {},
   "source": [
    "### Basic Structure of a Decorator"
   ]
  },
  {
   "cell_type": "code",
   "execution_count": null,
   "id": "08c29da8-edfd-479a-9cc6-bda55d5ef30e",
   "metadata": {},
   "outputs": [],
   "source": [
    "#without directly usage of decorator (typical decorator concept)\n",
    "\n",
    "def simple_decorator(func):\n",
    "    def wrapper():\n",
    "        print(\"***Before***\")\n",
    "        func()\n",
    "        print(\"***After***\")\n",
    "    return wrapper\n",
    "\n",
    "def say_hello():\n",
    "    print('Hi')\n",
    "\n",
    "def say_bye():\n",
    "    print('bye')\n",
    "\n",
    "x=simple_decorator(say_hello) #This returns the 'wrapper' function and assigns it to 'x'\n",
    "y=simple_decorator(say_bye) #This returns the 'wrapper' function and assigns it to 'y'\n",
    "\n",
    "# Call the decorated function (which is now the 'wrapper' function)\n",
    "x()\n",
    "y()"
   ]
  },
  {
   "cell_type": "code",
   "execution_count": null,
   "id": "d28aeffa-b3df-43ca-9c94-71f1ecd7d47b",
   "metadata": {},
   "outputs": [],
   "source": [
    "#with decorator usage\n",
    "\n",
    "def simple_decorator(func): #parent function is used as decorator\n",
    "    def wrapper():\n",
    "        print(\"***Before***\")\n",
    "        func()\n",
    "        print(\"***After***\")\n",
    "    return wrapper\n",
    "\n",
    "@simple_decorator\n",
    "def say_hello():\n",
    "    print('Hi')\n",
    "\n",
    "@simple_decorator\n",
    "def say_bye():\n",
    "    print('bye')\n",
    "\n",
    "\n",
    "say_hello()\n",
    "say_bye()"
   ]
  },
  {
   "cell_type": "markdown",
   "id": "67bc9803-25e3-457f-96f2-ec12391ca8c4",
   "metadata": {},
   "source": [
    "### Decorators with Arguments\n"
   ]
  },
  {
   "cell_type": "code",
   "execution_count": null,
   "id": "f9ee0780-3f2b-4f07-86c8-6727bdd115e7",
   "metadata": {},
   "outputs": [],
   "source": [
    "def log_sum(func):\n",
    "    def wrapper(*args, **kwargs):\n",
    "        result = func(*args, **kwargs)\n",
    "        print(f\"Sum of numbers is: {result}\")\n",
    "    return wrapper\n",
    "\n",
    "@log_sum\n",
    "def sum_numbers(*args):\n",
    "    return sum(args)\n",
    "\n",
    "sum_numbers(1, 2, 3, 4, 5)\n",
    "sum_numbers(10, 20, 30)\n"
   ]
  },
  {
   "cell_type": "markdown",
   "id": "4692e6b7-4d14-4d90-86df-72e2b9df6b8c",
   "metadata": {},
   "source": [
    "### Chaining Decorators / nested"
   ]
  },
  {
   "cell_type": "code",
   "execution_count": null,
   "id": "3a65dcbd-9b4f-4d16-ba18-a96ed211ad56",
   "metadata": {},
   "outputs": [],
   "source": [
    "def decorator_one(func):\n",
    "    def wrapper():\n",
    "        print(\"Decorator One\")\n",
    "        func()\n",
    "    return wrapper\n",
    "\n",
    "def decorator_two(func):\n",
    "    def wrapper():\n",
    "        print(\"Decorator Two\")\n",
    "        func()\n",
    "    return wrapper\n",
    "\n",
    "@decorator_one\n",
    "@decorator_two\n",
    "def say_hello():\n",
    "    print(\"Hello!\")\n",
    "\n",
    "say_hello()\n"
   ]
  },
  {
   "cell_type": "markdown",
   "id": "ca8f08b7-b289-4bcf-9f6d-98c5f7b1d664",
   "metadata": {},
   "source": [
    "### Most Commonly used Built-in Decorators"
   ]
  },
  {
   "cell_type": "markdown",
   "id": "1b2334c9-86c7-45d7-95e6-a49ea5de055d",
   "metadata": {},
   "source": [
    "@staticmethod A static method does not require access to the instance or the class itself. It behaves like a regular function but is scoped within the class"
   ]
  },
  {
   "cell_type": "code",
   "execution_count": null,
   "id": "21937374-e57e-4569-bd5e-57cb75ab830b",
   "metadata": {},
   "outputs": [],
   "source": [
    "class MyClass:\n",
    "    @staticmethod\n",
    "    def greet(name):\n",
    "        print(f\"Hello, {name}\")\n",
    "\n",
    "\n",
    "MyClass.greet(\"Alice\")\n"
   ]
  },
  {
   "cell_type": "code",
   "execution_count": null,
   "id": "59e7277c-070e-459e-92eb-0f71a315e962",
   "metadata": {},
   "outputs": [],
   "source": [
    "class MathOperations:\n",
    "    @staticmethod\n",
    "    def add(a, b):\n",
    "        return a + b\n",
    "\n",
    "    @staticmethod\n",
    "    def multiply(a, b):\n",
    "        return a * b\n",
    "\n",
    "sum_result = MathOperations.add(5, 3)\n",
    "product_result = MathOperations.multiply(4, 2)\n",
    "\n",
    "print(f\"Sum: {sum_result}\")\n",
    "print(f\"Product: {product_result}\")\n"
   ]
  },
  {
   "cell_type": "markdown",
   "id": "e84d6354-1d19-43d2-9038-b06ae66e38c3",
   "metadata": {},
   "source": [
    "@classmethod Class methods take the class itself as the first argument (usually named cls). It can be used to modify class-level attributes or call other class methods."
   ]
  },
  {
   "cell_type": "code",
   "execution_count": null,
   "id": "a91abdf4-50ef-49a8-bb82-42b3432c6012",
   "metadata": {},
   "outputs": [],
   "source": [
    "class BankAccount:\n",
    "    interest_rate = 0.05  # Class variable\n",
    "\n",
    "    def __init__(self, balance):\n",
    "        self.balance = balance\n",
    "\n",
    "    @classmethod\n",
    "    def set_interest_rate(cls, rate):\n",
    "        cls.interest_rate = rate\n",
    "        print(f\"Interest rate updated to: {cls.interest_rate * 100:.2f}%\")\n",
    "\n",
    "    def calculate_interest(self):\n",
    "        return self.balance * BankAccount.interest_rate\n",
    "\n",
    "# Using the class method to modify the interest rate\n",
    "BankAccount.set_interest_rate(0.07)\n",
    "\n",
    "account = BankAccount(1000)\n",
    "interest = account.calculate_interest()\n",
    "\n",
    "print(f\"Interest on the balance: ${interest}\")\n"
   ]
  },
  {
   "cell_type": "markdown",
   "id": "2c98e6ff-821d-42eb-9084-75f79a4a6f0b",
   "metadata": {},
   "source": [
    "@property The @property decorator is used to define a method as a getter for an attribute, which can be accessed like an attribute instead of a method."
   ]
  },
  {
   "cell_type": "code",
   "execution_count": null,
   "id": "6fe9f718-0bcb-471c-9b48-dd35f870703f",
   "metadata": {},
   "outputs": [],
   "source": [
    "class Circle:\n",
    "    def __init__(self, radius):\n",
    "        self._radius = radius\n",
    "\n",
    "    @property\n",
    "    def radius(self):\n",
    "        return self._radius\n",
    "\n",
    "    @property\n",
    "    def area(self):\n",
    "        return 3.14 * self._radius ** 2\n",
    "\n",
    "# Using the property\n",
    "circle = Circle(5)\n",
    "print(circle.radius)\n",
    "print(circle.area)\n"
   ]
  },
  {
   "cell_type": "markdown",
   "id": "0a64e78a-1bbd-4a86-9ecf-e13b85333ecc",
   "metadata": {},
   "source": [
    "## Generators"
   ]
  },
  {
   "cell_type": "markdown",
   "id": "3d8d43e4-aa98-4a57-b4b1-f77e1f5b8ec9",
   "metadata": {},
   "source": [
    "Generator is a special kind of function that allows you to iterate over data without needing to store everything in memory at once."
   ]
  },
  {
   "cell_type": "markdown",
   "id": "c7ac13fc-04ea-4cfc-9809-1edfefc84078",
   "metadata": {},
   "source": [
    "A generator does not compute and return all values at once. Instead, it generates values one at a time as they are requested, which is more memory-efficient."
   ]
  },
  {
   "cell_type": "code",
   "execution_count": null,
   "id": "e0aaa593-e7e8-422d-9b81-75c7681721b0",
   "metadata": {},
   "outputs": [],
   "source": [
    "# Return vs Yield\n",
    "\n",
    "def get_squares(numbers):\n",
    "    for n in numbers:\n",
    "        yield n * n\n",
    "\n",
    "gen = get_squares([1, 2, 3, 4])\n",
    "\n",
    "# Get squares one by one\n",
    "print(next(gen))  # Output: 1 next() used to call next iterator\n",
    "print(next(gen))  # Output: 4\n",
    "# print(next(gen))  # Output: 9\n",
    "# print(next(gen))  # Output: 16\n"
   ]
  },
  {
   "cell_type": "code",
   "execution_count": null,
   "id": "cd4373d4-9b52-4239-9baf-c496ef44ad01",
   "metadata": {},
   "outputs": [],
   "source": [
    "def get_squares(numbers):\n",
    "    return [n * n for n in numbers]\n",
    "\n",
    "result = get_squares([1, 2, 3, 4])\n",
    "print(result)  # Output: [1, 4, 9, 16]"
   ]
  },
  {
   "cell_type": "code",
   "execution_count": null,
   "id": "911bad1a-2e9b-48d2-8fea-d741fc238af9",
   "metadata": {},
   "outputs": [],
   "source": [
    "#Generator Expression vs\n",
    "gen_exp = (x for x in range(5))\n",
    "\n",
    "for value in gen_exp:\n",
    "    print(value)"
   ]
  },
  {
   "cell_type": "code",
   "execution_count": null,
   "id": "c3a6ba63-38fc-46e3-93c3-1f865dd84ea1",
   "metadata": {},
   "outputs": [],
   "source": [
    "#memory efficient\n",
    "\n",
    "print(f\"Memory usage of list: {sys.getsizeof(gen_exp)} bytes\")"
   ]
  },
  {
   "cell_type": "code",
   "execution_count": null,
   "id": "14e9ca4e-9837-4016-83a2-18f4ee551913",
   "metadata": {},
   "outputs": [],
   "source": [
    "import sys\n",
    "\n",
    "# Create a large list\n",
    "large_list = [i for i in range(1000000)]\n",
    "\n",
    "# Check the memory usage of the list\n",
    "print(f\"Memory usage of list: {sys.getsizeof(large_list)} bytes\")\n"
   ]
  },
  {
   "cell_type": "code",
   "execution_count": null,
   "id": "8d09a4c0-5d54-4b5d-9b8b-02c554e4e488",
   "metadata": {},
   "outputs": [],
   "source": []
  }
 ],
 "metadata": {
  "kernelspec": {
   "display_name": "Python 3 (ipykernel)",
   "language": "python",
   "name": "python3"
  },
  "language_info": {
   "codemirror_mode": {
    "name": "ipython",
    "version": 3
   },
   "file_extension": ".py",
   "mimetype": "text/x-python",
   "name": "python",
   "nbconvert_exporter": "python",
   "pygments_lexer": "ipython3",
   "version": "3.12.7"
  }
 },
 "nbformat": 4,
 "nbformat_minor": 5
}

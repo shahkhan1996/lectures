{
 "cells": [
  {
   "cell_type": "markdown",
   "id": "49ac7d57-3a51-4435-92e3-0e0c7dd2ce43",
   "metadata": {},
   "source": [
    "#### Logical operator NOT (reverse of True)"
   ]
  },
  {
   "cell_type": "code",
   "execution_count": null,
   "id": "ece39fd1-27d2-4b11-9ddd-be8f21c29c47",
   "metadata": {},
   "outputs": [],
   "source": [
    "#basic example\n",
    "\n",
    "a = 2\n",
    "b = 3\n",
    "c = 5\n",
    "d = 2"
   ]
  },
  {
   "cell_type": "code",
   "execution_count": null,
   "id": "7543f9c0-9307-4ca4-a4ef-75015a1ab933",
   "metadata": {},
   "outputs": [],
   "source": []
  },
  {
   "cell_type": "code",
   "execution_count": null,
   "id": "1a30aaf4-3590-4c06-b479-fac0ba7596f4",
   "metadata": {},
   "outputs": [],
   "source": []
  },
  {
   "cell_type": "code",
   "execution_count": null,
   "id": "5edf0bda-15f5-4838-b1a8-3d52f4c57074",
   "metadata": {},
   "outputs": [],
   "source": []
  },
  {
   "cell_type": "code",
   "execution_count": null,
   "id": "7111f191-9ec8-44af-9cd0-eb46a600058f",
   "metadata": {},
   "outputs": [],
   "source": []
  },
  {
   "cell_type": "code",
   "execution_count": null,
   "id": "1feacd61-911f-4702-a733-d99d141fad89",
   "metadata": {},
   "outputs": [],
   "source": []
  },
  {
   "cell_type": "code",
   "execution_count": null,
   "id": "19cff640-6887-47cb-9057-9eb3dfe0fb1c",
   "metadata": {},
   "outputs": [],
   "source": []
  },
  {
   "cell_type": "code",
   "execution_count": null,
   "id": "9f683eae-5b7d-4eff-bcdc-8adf7b83e638",
   "metadata": {},
   "outputs": [],
   "source": [
    "# Not Equal to Condition ( != ) with NOT (when to use them)\n",
    "\n",
    "a = \"hello\""
   ]
  },
  {
   "cell_type": "code",
   "execution_count": null,
   "id": "f1638d1f-264d-4b62-a2d6-ccbdbf20cb9b",
   "metadata": {},
   "outputs": [],
   "source": [
    "a = \"hello\""
   ]
  },
  {
   "cell_type": "code",
   "execution_count": null,
   "id": "b294fa39-b4d3-4514-932a-a9262f1fd399",
   "metadata": {},
   "outputs": [],
   "source": [
    "#practice\n",
    "#employee code\n"
   ]
  },
  {
   "cell_type": "markdown",
   "id": "b81b7815-d39e-461c-b1e7-687b3ae35289",
   "metadata": {},
   "source": [
    "## NESTED IF"
   ]
  },
  {
   "cell_type": "code",
   "execution_count": null,
   "id": "78f23370-0b43-4596-9a95-ca66bfeb4a17",
   "metadata": {},
   "outputs": [],
   "source": [
    "visa = \"valid\"\n",
    "account_statement = 5000001\n",
    "purpose = \"education\"\n",
    "admission_letter = \"no\"\n",
    "job_recommendation = \"na\"\n",
    "age = 26\n",
    "family_member = \"yes\"\n",
    "documents_submitted = \"yes\""
   ]
  },
  {
   "cell_type": "markdown",
   "id": "fdf629dc-5d62-4d8a-9449-34f8409fe5d3",
   "metadata": {},
   "source": [
    "### IF-IF"
   ]
  },
  {
   "cell_type": "code",
   "execution_count": null,
   "id": "f02f18ef-3d74-405e-91d1-573b2eed1db1",
   "metadata": {},
   "outputs": [],
   "source": [
    "#age\n",
    "    #purpose\n"
   ]
  },
  {
   "cell_type": "code",
   "execution_count": null,
   "id": "2b3900ee-8a13-490d-a18a-6f62d2ca8daf",
   "metadata": {},
   "outputs": [],
   "source": []
  },
  {
   "cell_type": "code",
   "execution_count": null,
   "id": "6805d651-9927-4801-999a-6b0356b9b422",
   "metadata": {},
   "outputs": [],
   "source": []
  },
  {
   "cell_type": "code",
   "execution_count": null,
   "id": "3f48dd8e-8388-4a2c-a2b5-f495eae9bf9f",
   "metadata": {},
   "outputs": [],
   "source": []
  },
  {
   "cell_type": "markdown",
   "id": "208f5650-4d39-4708-82bb-3168f8e99bdc",
   "metadata": {},
   "source": [
    "### IF-(IF-ELIF)-ELSE"
   ]
  },
  {
   "cell_type": "code",
   "execution_count": null,
   "id": "e96a915e-51ad-4904-9897-2435185aa1a1",
   "metadata": {},
   "outputs": [],
   "source": [
    "#age\n",
    "    #purpose\n",
    "    #purpose\n"
   ]
  },
  {
   "cell_type": "markdown",
   "id": "20ea0dda-9d82-4558-864d-2abde1897324",
   "metadata": {},
   "source": [
    "### IF-IF-IF-ELSE"
   ]
  },
  {
   "cell_type": "code",
   "execution_count": null,
   "id": "a149b18d-10bb-4f17-b845-51f36a4aa06d",
   "metadata": {},
   "outputs": [],
   "source": [
    "#age\n",
    "    #purpose\n",
    "        #family member"
   ]
  },
  {
   "cell_type": "markdown",
   "id": "1e17c6bb-c5fa-4e4b-9978-e27f8f574536",
   "metadata": {},
   "source": [
    "### IF-IF-(IF-ELSE)-IF"
   ]
  },
  {
   "cell_type": "code",
   "execution_count": null,
   "id": "f7a80bd8-bfd0-4b45-af7b-c132c55fffbd",
   "metadata": {},
   "outputs": [],
   "source": [
    "#age\n",
    "    #purpose\n",
    "        #family member\n",
    "        #job recommendation\n"
   ]
  },
  {
   "cell_type": "markdown",
   "id": "60f66cf4-1bb7-43c9-82c6-92f8d10486eb",
   "metadata": {},
   "source": [
    "### IF-IF-(IF-ELSE)-(IF-ELIF-ELSE)"
   ]
  },
  {
   "cell_type": "code",
   "execution_count": null,
   "id": "3fa30b6f-c10d-4fa7-a24e-79076bb0b7c5",
   "metadata": {},
   "outputs": [],
   "source": [
    "#age\n",
    "    #purpose\n",
    "        #family member\n",
    "        #job recommendation\n",
    "        #job recommendation"
   ]
  },
  {
   "cell_type": "markdown",
   "id": "34c6a5c9-27c7-4499-bb61-f41d257c3558",
   "metadata": {},
   "source": [
    "### IF-(IF-ELIF)-(IF-ELSE)"
   ]
  },
  {
   "cell_type": "code",
   "execution_count": null,
   "id": "637d7fb1-1df8-439e-b1f8-4ef2c6fa997e",
   "metadata": {},
   "outputs": [],
   "source": [
    "#age\n",
    "    #purpose\n",
    "    #purpose\n",
    "        #documents_submitted\n",
    "\n"
   ]
  },
  {
   "cell_type": "markdown",
   "id": "38decbd2-188b-49ed-bab7-5b44ca2bb9f6",
   "metadata": {},
   "source": [
    "## Identity Operators (IS - IS NOT)\n",
    "#### Identity operators are used to compare the memory location of two objects. These are different from the relational operators because they check if two variables refer to the same object, not if their values are equal. (returns True or False) (optimization, performance enhancement)"
   ]
  },
  {
   "cell_type": "code",
   "execution_count": null,
   "id": "73dce654-229e-43b0-8de9-1490ff6d8456",
   "metadata": {},
   "outputs": [],
   "source": [
    "#basic example \n",
    "#is\n",
    "a = 1\n",
    "b = 1"
   ]
  },
  {
   "cell_type": "code",
   "execution_count": null,
   "id": "f9ffb4eb-d0d3-49d4-92ca-3975d846f227",
   "metadata": {},
   "outputs": [],
   "source": [
    "#is not\n"
   ]
  },
  {
   "cell_type": "code",
   "execution_count": null,
   "id": "3f2c584b-52c3-4f16-b93d-175aaba1ff7b",
   "metadata": {},
   "outputs": [],
   "source": [
    "a = \"python\"\n",
    "b = \"python\"\n"
   ]
  },
  {
   "cell_type": "code",
   "execution_count": null,
   "id": "f9ae6669-a553-43cb-8ee3-9719e5e1f38d",
   "metadata": {},
   "outputs": [],
   "source": []
  },
  {
   "cell_type": "code",
   "execution_count": null,
   "id": "240608da-c920-4cad-bb6b-e8bffff61fc6",
   "metadata": {},
   "outputs": [],
   "source": [
    "# Identity with mutable objects\n",
    "a = [1,2,3]\n",
    "b = a\n",
    "c = [1,2,3]\n"
   ]
  },
  {
   "cell_type": "code",
   "execution_count": null,
   "id": "aaab5a99-3a48-4082-8edd-97fc03a261c9",
   "metadata": {},
   "outputs": [],
   "source": [
    "#family example\n",
    "\n"
   ]
  },
  {
   "cell_type": "code",
   "execution_count": null,
   "id": "3e3b492a-2716-48f8-97a8-96afe6895036",
   "metadata": {},
   "outputs": [],
   "source": []
  },
  {
   "cell_type": "code",
   "execution_count": null,
   "id": "1dc21a4f-9c8c-4a7c-8425-20a21e90748a",
   "metadata": {},
   "outputs": [],
   "source": [
    "# Integer Memory Range (Caching Behavior) -5 to 256 faster results\n"
   ]
  },
  {
   "cell_type": "code",
   "execution_count": null,
   "id": "c0705187-4444-4481-ac58-222b17878ba3",
   "metadata": {},
   "outputs": [],
   "source": [
    "# short string / long string\n",
    "\n"
   ]
  },
  {
   "cell_type": "code",
   "execution_count": null,
   "id": "07411461-4106-403c-ac82-4b69fb8385bd",
   "metadata": {},
   "outputs": [],
   "source": [
    "# Difference between == and is:\n",
    "# a == b\n",
    "# a is b\n",
    "\n"
   ]
  },
  {
   "cell_type": "code",
   "execution_count": null,
   "id": "9c1a5b46-580f-4f9e-80a2-e73b6fa78339",
   "metadata": {},
   "outputs": [],
   "source": [
    "#practice\n",
    "#employee department \n",
    "\n"
   ]
  },
  {
   "cell_type": "markdown",
   "id": "9cbfe029-cf68-4fb5-a2aa-e89d9eb97708",
   "metadata": {},
   "source": [
    "## Membership Operators (IN - NOT IN)\n",
    "#### Membership operators are used to test whether a value is present in a sequence (such as a list, tuple, or string). These operators are often used in loops or conditions to check membership. (returns Ture or False)"
   ]
  },
  {
   "cell_type": "code",
   "execution_count": null,
   "id": "f3e8dc8c-ed84-4fb0-a2e3-d3c6373a44c9",
   "metadata": {},
   "outputs": [],
   "source": [
    "#basic example"
   ]
  },
  {
   "cell_type": "code",
   "execution_count": null,
   "id": "a9ead230-3f3e-4c11-b6b7-fbfac669bc97",
   "metadata": {},
   "outputs": [],
   "source": [
    "#returns true/false or customize action (if/loop/function etc) if value exists in sequence\n",
    "#cars list"
   ]
  },
  {
   "cell_type": "code",
   "execution_count": null,
   "id": "b861d275-536c-43f9-ab36-18d4c6abcd5f",
   "metadata": {},
   "outputs": [],
   "source": []
  },
  {
   "cell_type": "code",
   "execution_count": null,
   "id": "594d0230-9ad3-418a-aa93-0116dee41767",
   "metadata": {},
   "outputs": [],
   "source": [
    "#fruits word string\n",
    "\n"
   ]
  },
  {
   "cell_type": "code",
   "execution_count": null,
   "id": "61058247-63f0-4459-bc34-da7aff5b983b",
   "metadata": {},
   "outputs": [],
   "source": [
    "#not in\n"
   ]
  },
  {
   "cell_type": "code",
   "execution_count": 2,
   "id": "c1b78b82-6f7d-4b02-9884-44ebba7e242f",
   "metadata": {},
   "outputs": [],
   "source": [
    "# Difference between == and in:\n",
    "#a == b\n",
    "#1 in a/b"
   ]
  },
  {
   "cell_type": "code",
   "execution_count": null,
   "id": "a6273c61-7878-4915-9adc-5436a42d8d33",
   "metadata": {},
   "outputs": [],
   "source": [
    "# Edge Cases \"\"\n",
    "# Empty sequences []\n",
    "# Case-sensitivity apple Apple\n",
    "\n"
   ]
  },
  {
   "cell_type": "code",
   "execution_count": null,
   "id": "4929f3a1-6047-43e7-a600-506a3f75c44e",
   "metadata": {},
   "outputs": [],
   "source": [
    "#practice\n",
    "#find out students section\n",
    "name =\n",
    "gender = \n"
   ]
  },
  {
   "cell_type": "code",
   "execution_count": null,
   "id": "c90a2f8d-3c56-4496-9907-ddf34a053916",
   "metadata": {},
   "outputs": [],
   "source": []
  },
  {
   "cell_type": "code",
   "execution_count": null,
   "id": "76d06604-db8b-46d3-8308-32c9533a2e7a",
   "metadata": {},
   "outputs": [],
   "source": []
  }
 ],
 "metadata": {
  "kernelspec": {
   "display_name": "Python 3 (ipykernel)",
   "language": "python",
   "name": "python3"
  },
  "language_info": {
   "codemirror_mode": {
    "name": "ipython",
    "version": 3
   },
   "file_extension": ".py",
   "mimetype": "text/x-python",
   "name": "python",
   "nbconvert_exporter": "python",
   "pygments_lexer": "ipython3",
   "version": "3.12.7"
  }
 },
 "nbformat": 4,
 "nbformat_minor": 5
}

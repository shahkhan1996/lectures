{
 "cells": [
  {
   "cell_type": "markdown",
   "id": "38decbd2-188b-49ed-bab7-5b44ca2bb9f6",
   "metadata": {},
   "source": [
    "## Identity Operators (IS - IS NOT)\n",
    "#### Identity operators are used to compare the memory location of two objects. These are different from the relational operators because they check if two variables refer to the same object, not if their values are equal. (returns True or False) (optimization, performance enhancement)"
   ]
  },
  {
   "cell_type": "code",
   "execution_count": 21,
   "id": "73dce654-229e-43b0-8de9-1490ff6d8456",
   "metadata": {},
   "outputs": [],
   "source": [
    "#basic example (immutable)\n",
    "#is\n",
    "a = 1 \n",
    "b = 1\n"
   ]
  },
  {
   "cell_type": "code",
   "execution_count": null,
   "id": "24f2337b-9973-4fad-aa7a-ebc98759cd01",
   "metadata": {},
   "outputs": [],
   "source": [
    "a = \"python\"\n",
    "b = \"python\"\n",
    "\n"
   ]
  },
  {
   "cell_type": "code",
   "execution_count": null,
   "id": "63f2460c-08df-436a-a05a-048c7593603c",
   "metadata": {},
   "outputs": [],
   "source": []
  },
  {
   "cell_type": "code",
   "execution_count": 23,
   "id": "8a7709ec-4da4-4cb6-a428-a94398cdb515",
   "metadata": {},
   "outputs": [],
   "source": [
    "# Identity with mutable objects\n",
    "a = [1,2,3]\n",
    "b = a\n",
    "c = [1,2,3]"
   ]
  },
  {
   "cell_type": "code",
   "execution_count": 44,
   "id": "f1ff6b6e-b89c-46a2-a555-6a6c4947c804",
   "metadata": {},
   "outputs": [],
   "source": [
    "# Integer Memory Range (Caching Behavior) -5 to 256 faster results\n",
    "\n",
    "a = 256\n",
    "b = 256\n",
    "\n",
    "x = 257\n",
    "y = 257"
   ]
  },
  {
   "cell_type": "code",
   "execution_count": 52,
   "id": "b288d474-03c7-4730-a227-f2abb18dfc42",
   "metadata": {},
   "outputs": [],
   "source": [
    "#is not\n",
    "a = 256\n",
    "b = 256\n"
   ]
  },
  {
   "cell_type": "code",
   "execution_count": 34,
   "id": "2df1c237-5c8d-4a70-abeb-c3dd96461535",
   "metadata": {},
   "outputs": [],
   "source": [
    "# short string / long string\n",
    "a = \"python is beautiful\"\n",
    "b = \"python is beautiful\"\n"
   ]
  },
  {
   "cell_type": "code",
   "execution_count": 35,
   "id": "f4ad71a5-7619-4991-b912-aed24d23e255",
   "metadata": {},
   "outputs": [],
   "source": [
    "# Difference between == and is:\n",
    "# a == b\n",
    "# a is b\n",
    "\n"
   ]
  },
  {
   "cell_type": "code",
   "execution_count": 36,
   "id": "74773a4e-6359-4d3a-a550-0bd4084a2e8f",
   "metadata": {},
   "outputs": [],
   "source": [
    "# import sys\n",
    "#sys.getsizeof()\n",
    "\n",
    "a = \"bytes\"\n",
    "x = [1, 2, 3]\n",
    "\n",
    "y = 100\n",
    "\n",
    "z = \"Hi, We are learning python\"\n",
    "\n",
    "\n"
   ]
  },
  {
   "cell_type": "code",
   "execution_count": 41,
   "id": "9885729f-b505-4d79-bd85-58f32663d294",
   "metadata": {},
   "outputs": [],
   "source": [
    "#id\n",
    "\n",
    "a = \"bytes\"\n",
    "x = [1, 2, 3]\n",
    "\n",
    "y = 100\n",
    "\n",
    "z = \"Hi, We are learning python\""
   ]
  },
  {
   "cell_type": "code",
   "execution_count": null,
   "id": "fff1ee4a-8c3f-4c46-9a2b-e07b70e248b9",
   "metadata": {},
   "outputs": [],
   "source": []
  },
  {
   "cell_type": "code",
   "execution_count": 29,
   "id": "aaab5a99-3a48-4082-8edd-97fc03a261c9",
   "metadata": {},
   "outputs": [],
   "source": [
    "#office example (practice)\n",
    "ali = ['manager','office location','salary']\n",
    "ahmed = ali\n",
    "khan = ['manager','office location','salary']\n"
   ]
  },
  {
   "cell_type": "code",
   "execution_count": null,
   "id": "3e3b492a-2716-48f8-97a8-96afe6895036",
   "metadata": {},
   "outputs": [],
   "source": []
  },
  {
   "cell_type": "markdown",
   "id": "9cbfe029-cf68-4fb5-a2aa-e89d9eb97708",
   "metadata": {},
   "source": [
    "## Membership Operators (IN - NOT IN)\n",
    "#### Membership operators are used to test whether a value is present in a sequence (such as a list, tuple, or string). These operators are often used in loops or conditions to check membership. (returns Ture or False)"
   ]
  },
  {
   "cell_type": "code",
   "execution_count": 47,
   "id": "f3e8dc8c-ed84-4fb0-a2e3-d3c6373a44c9",
   "metadata": {},
   "outputs": [],
   "source": [
    "#basic example\n",
    "a = \"python\"\n",
    "b = \"python\"\n"
   ]
  },
  {
   "cell_type": "code",
   "execution_count": null,
   "id": "a9ead230-3f3e-4c11-b6b7-fbfac669bc97",
   "metadata": {},
   "outputs": [],
   "source": [
    "#returns true/false or customize action (if/loop/function etc) if value exists in sequence\n",
    "#cars list\n"
   ]
  },
  {
   "cell_type": "code",
   "execution_count": null,
   "id": "b861d275-536c-43f9-ab36-18d4c6abcd5f",
   "metadata": {},
   "outputs": [],
   "source": []
  },
  {
   "cell_type": "code",
   "execution_count": null,
   "id": "594d0230-9ad3-418a-aa93-0116dee41767",
   "metadata": {},
   "outputs": [],
   "source": [
    "#fruits word string\n",
    "\n"
   ]
  },
  {
   "cell_type": "code",
   "execution_count": null,
   "id": "61058247-63f0-4459-bc34-da7aff5b983b",
   "metadata": {},
   "outputs": [],
   "source": [
    "#not in\n",
    "\n"
   ]
  },
  {
   "cell_type": "code",
   "execution_count": 64,
   "id": "c1b78b82-6f7d-4b02-9884-44ebba7e242f",
   "metadata": {},
   "outputs": [],
   "source": [
    "# Difference between == and in:\n",
    "#a == b\n",
    "#1 in a/b\n",
    "\n",
    "a=['apple','mango','orange']\n",
    "b=['apple','mango','orange']\n"
   ]
  },
  {
   "cell_type": "code",
   "execution_count": 61,
   "id": "a6273c61-7878-4915-9adc-5436a42d8d33",
   "metadata": {},
   "outputs": [],
   "source": [
    "# Edge Cases \"\"\n",
    "# Empty sequences []\n",
    "# Case-sensitivity apple Apple\n"
   ]
  },
  {
   "cell_type": "code",
   "execution_count": 63,
   "id": "4929f3a1-6047-43e7-a600-506a3f75c44e",
   "metadata": {},
   "outputs": [],
   "source": [
    "#practice\n",
    "#find out students class\n",
    "name = ['ali','ahmed','shah']\n",
    "campus = ['A','B','C']\n"
   ]
  },
  {
   "cell_type": "markdown",
   "id": "ef1f7863-d7d4-4506-bf9a-5959fc0453bf",
   "metadata": {},
   "source": [
    "## Tuple () (Data Structure)"
   ]
  },
  {
   "cell_type": "code",
   "execution_count": null,
   "id": "76d06604-db8b-46d3-8308-32c9533a2e7a",
   "metadata": {},
   "outputs": [],
   "source": [
    "#Ordered\n",
    "#Allow duplicates:\n",
    "#Can store mixed data types:\n",
    "#Indexing and Slicing:\n",
    "#empty_tuple\n",
    "# single_element_tuple = (5,)\n",
    "#nested tuple\n",
    "#Immutable\n"
   ]
  },
  {
   "cell_type": "code",
   "execution_count": null,
   "id": "0f4532b4-d100-40b6-8ce3-4be314ae57e4",
   "metadata": {},
   "outputs": [],
   "source": []
  },
  {
   "cell_type": "code",
   "execution_count": null,
   "id": "d85f3efb-e099-4baa-adac-caf0caf649cc",
   "metadata": {},
   "outputs": [],
   "source": []
  },
  {
   "cell_type": "code",
   "execution_count": 70,
   "id": "331b817c-b18a-49ea-9e3f-bcce62b817ed",
   "metadata": {},
   "outputs": [],
   "source": [
    "# dir"
   ]
  },
  {
   "cell_type": "code",
   "execution_count": null,
   "id": "537a62a1-09de-410e-a143-7e526f98884c",
   "metadata": {},
   "outputs": [],
   "source": [
    "#indexing"
   ]
  },
  {
   "cell_type": "code",
   "execution_count": null,
   "id": "873eb8ad-f096-48d9-a62d-ffc2de0a2a11",
   "metadata": {},
   "outputs": [],
   "source": [
    "#slicing"
   ]
  },
  {
   "cell_type": "code",
   "execution_count": null,
   "id": "f42bfe84-845e-429a-96bb-e3c156e25921",
   "metadata": {},
   "outputs": [],
   "source": [
    "# Concatenation\n"
   ]
  },
  {
   "cell_type": "code",
   "execution_count": 75,
   "id": "48d34e33-14fd-4b5c-9302-f99e63d5d779",
   "metadata": {},
   "outputs": [],
   "source": [
    "# Repetition\n",
    "# a=(1,2,3)*2"
   ]
  },
  {
   "cell_type": "code",
   "execution_count": 76,
   "id": "3f32ef5f-1031-48ae-9210-166694840be8",
   "metadata": {},
   "outputs": [],
   "source": [
    "# len"
   ]
  },
  {
   "cell_type": "code",
   "execution_count": 81,
   "id": "ba639a9b-807e-409a-bafb-ec1f11944d3c",
   "metadata": {},
   "outputs": [],
   "source": [
    "#immutability\n",
    "# a=(1,2,4,5)\n",
    "# a[1]='abc'\n"
   ]
  },
  {
   "cell_type": "code",
   "execution_count": 85,
   "id": "99c74143-dc7c-4bee-bfe1-eef0a88ecca1",
   "metadata": {},
   "outputs": [],
   "source": [
    "#Access List\n",
    "# a=(1,2,4,5,[1,2,4])\n",
    "# a[4][1]='abc'"
   ]
  },
  {
   "cell_type": "code",
   "execution_count": null,
   "id": "b3dbe8f8-041e-4bc8-9890-811e04b89c4b",
   "metadata": {},
   "outputs": [],
   "source": [
    "#nested tuple\n",
    "# nested_tuple = (1, (2, 3), (4, 5, 6))"
   ]
  },
  {
   "cell_type": "code",
   "execution_count": 100,
   "id": "33066586-50f6-42dc-b94b-943748daa45d",
   "metadata": {},
   "outputs": [],
   "source": [
    "#method\n",
    "#count\n",
    "#index\n"
   ]
  },
  {
   "cell_type": "markdown",
   "id": "989ca6de-c111-466a-8120-8ea9a56c07a7",
   "metadata": {},
   "source": [
    "### Packing and Unpacking in Tuples\n",
    "Packing refers to the process of combining multiple values into a tuple,\n",
    "and Unpacking is extracting those values back from the tuple into individual variables."
   ]
  },
  {
   "cell_type": "code",
   "execution_count": 90,
   "id": "7837f132-f778-4e05-ac6f-5e0ea664b1e7",
   "metadata": {},
   "outputs": [],
   "source": [
    "#packing\n",
    "person_info = (\"John\", 25, \"Software Engineer\")"
   ]
  },
  {
   "cell_type": "code",
   "execution_count": 92,
   "id": "d9f6fe4e-52c3-44c7-9f73-d54a98e6701d",
   "metadata": {},
   "outputs": [],
   "source": [
    "#unpacking\n",
    "name, age, job = person_info"
   ]
  },
  {
   "cell_type": "code",
   "execution_count": null,
   "id": "97d88060-153c-41c5-8a83-3eb1806d3267",
   "metadata": {},
   "outputs": [],
   "source": []
  },
  {
   "cell_type": "code",
   "execution_count": 93,
   "id": "df48b5aa-2728-4e47-bd4e-131598571067",
   "metadata": {},
   "outputs": [],
   "source": [
    "values = (\"Apple\", \"Banana\", \"Cherry\", \"Grapes\")\n",
    "first, second, *others = values\n",
    "\n"
   ]
  },
  {
   "cell_type": "code",
   "execution_count": 94,
   "id": "39e43179-f5b0-4096-937d-cacca1481912",
   "metadata": {},
   "outputs": [],
   "source": [
    "details = (\"Alice\", 30, \"Manager\", \"New York\")\n",
    "name, age, role, _ = details\n",
    "\n"
   ]
  },
  {
   "cell_type": "code",
   "execution_count": null,
   "id": "19d212e7-33b6-4f10-8326-5666e58d8958",
   "metadata": {},
   "outputs": [],
   "source": []
  }
 ],
 "metadata": {
  "kernelspec": {
   "display_name": "Python 3 (ipykernel)",
   "language": "python",
   "name": "python3"
  },
  "language_info": {
   "codemirror_mode": {
    "name": "ipython",
    "version": 3
   },
   "file_extension": ".py",
   "mimetype": "text/x-python",
   "name": "python",
   "nbconvert_exporter": "python",
   "pygments_lexer": "ipython3",
   "version": "3.12.7"
  }
 },
 "nbformat": 4,
 "nbformat_minor": 5
}

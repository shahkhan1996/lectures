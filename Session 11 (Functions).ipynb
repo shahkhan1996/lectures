{
 "cells": [
  {
   "cell_type": "markdown",
   "id": "166fee90-65a7-4d2c-95ee-02806e4c52ed",
   "metadata": {},
   "source": [
    "### Functions\n",
    "\n",
    "In Python, a function is a reusable block of code that performs a specific task. Functions allow us to group related tasks together meaning that you can break down complex programs into smaller, more manageable pieces.\n",
    "\n"
   ]
  },
  {
   "cell_type": "markdown",
   "id": "b0e2947e-d86a-4073-a339-7542ec3aed3a",
   "metadata": {},
   "source": [
    "### Why Use Functions?\n",
    "\n",
    "- Reusability: Once a function is defined, you can call it multiple times without having to rewrite the same code.\n",
    "- Organization: Functions allow you to organize your code logically into blocks, making it easier to understand.\n",
    "- Abstraction: Functions can hide complex implementation details, exposing only what’s necessary."
   ]
  },
  {
   "cell_type": "markdown",
   "id": "70936566-37f3-4167-9a24-ccd3234ef17c",
   "metadata": {},
   "source": [
    "### Defining a Function"
   ]
  },
  {
   "cell_type": "code",
   "execution_count": null,
   "id": "1f3198b8-3233-4f01-abd2-1ceaa6774fc8",
   "metadata": {},
   "outputs": [],
   "source": [
    "def function_name(parameters): #parameters/arguments (optional)\n",
    "    # Function body\n",
    "    # Code to be executed\n",
    "    return value #(depends on condition)"
   ]
  },
  {
   "cell_type": "code",
   "execution_count": null,
   "id": "b4a36bc7-ea18-42f4-a3a0-25084485df25",
   "metadata": {},
   "outputs": [],
   "source": [
    "#my first function in python"
   ]
  },
  {
   "cell_type": "code",
   "execution_count": null,
   "id": "fa5cbd62-40fc-4122-b97b-2f281028dea1",
   "metadata": {},
   "outputs": [],
   "source": [
    "#Function with Parameters\n",
    "def greet(name):\n",
    "    print(f\"Hello, {name}!\")"
   ]
  },
  {
   "cell_type": "code",
   "execution_count": null,
   "id": "09de010c-2f7b-43dd-81c0-34e4a2c50529",
   "metadata": {},
   "outputs": [],
   "source": [
    "#Default Arguments\n",
    "def greet(name=\"Guest\"):\n",
    "    print(f\"Hello, {name}!\")\n"
   ]
  },
  {
   "cell_type": "code",
   "execution_count": null,
   "id": "ec09c85f-496a-484b-b89c-de98e534c3ff",
   "metadata": {},
   "outputs": [],
   "source": [
    "# Multiple Parameters\n",
    "def add(a, b):\n",
    "    return a + b"
   ]
  },
  {
   "cell_type": "code",
   "execution_count": null,
   "id": "173a9c8c-85ea-4d0f-a7e0-d77fbc0c0fa8",
   "metadata": {},
   "outputs": [],
   "source": [
    "# Positional Arguments\n",
    "def subtract(a, b):\n",
    "    return a - b"
   ]
  },
  {
   "cell_type": "code",
   "execution_count": null,
   "id": "0d7e7c67-75d2-44e3-b380-86cff12b7dc2",
   "metadata": {},
   "outputs": [],
   "source": [
    "# Keyword Arguments\n",
    "def subtract(a, b):\n",
    "    return a - b\n",
    "\n",
    "subtract(b=3, a=10)"
   ]
  },
  {
   "cell_type": "code",
   "execution_count": null,
   "id": "9bdf5ad0-94aa-4991-bf71-29a89aa9e2c8",
   "metadata": {},
   "outputs": [],
   "source": [
    "# Variable-length Arguments"
   ]
  },
  {
   "cell_type": "code",
   "execution_count": null,
   "id": "68fe7a14-98ac-4d39-9fc3-35eb4486686a",
   "metadata": {},
   "outputs": [],
   "source": [
    "# *args collects extra positional arguments into a tuple.\n",
    "def add(*args):\n",
    "    return sum(args)\n",
    "\n",
    "print(add(1, 2, 3))\n",
    "print(add(4, 5, 6, 7))\n"
   ]
  },
  {
   "cell_type": "code",
   "execution_count": null,
   "id": "71f7a83a-32ab-4851-8ef0-a6a2bce63015",
   "metadata": {},
   "outputs": [],
   "source": [
    "def greet(*args):\n",
    "    for name in args:\n",
    "        print(f\"Hello, {name}!\")\n",
    "        \n",
    "greet(\"Alice\", \"Bob\", \"Charlie\")\n"
   ]
  },
  {
   "cell_type": "code",
   "execution_count": null,
   "id": "68cebfed-5597-45af-97cd-d1516f63c601",
   "metadata": {},
   "outputs": [],
   "source": [
    "# **kwargs collects extra keyword arguments into a dictionary.\n",
    "def greet(**kwargs):\n",
    "    print(f\"Hello, {kwargs['name']}!\")\n",
    "\n",
    "greet(name=\"Alice\")"
   ]
  },
  {
   "cell_type": "code",
   "execution_count": null,
   "id": "e0ae2b5c-49a2-4801-8daf-f05ec75cc7a0",
   "metadata": {},
   "outputs": [],
   "source": [
    "def describe_person(**kwargs):\n",
    "    for key, value in kwargs.items():\n",
    "        print(f\"{key}: {value}\")\n",
    "        \n",
    "describe_person(name=\"Alice\", age=30, job=\"Engineer\")\n"
   ]
  },
  {
   "cell_type": "code",
   "execution_count": null,
   "id": "b8f99b12-b6fa-4b37-9efd-4e0699ca789b",
   "metadata": {},
   "outputs": [],
   "source": [
    "# Combining *args and **kwargs\n",
    "# When used together, *args must appear before **kwargs in the function definition.\n",
    "\n",
    "\n",
    "def show_info(*args, **kwargs):\n",
    "    print(\"Positional arguments:\", args)\n",
    "    print(\"Keyword arguments:\", kwargs)\n",
    "\n",
    "show_info(\"Alice\", \"Bob\", age=30, job=\"Engineer\")\n"
   ]
  },
  {
   "cell_type": "code",
   "execution_count": null,
   "id": "272a6ee2-c942-43b1-a4df-4a061c429ae2",
   "metadata": {},
   "outputs": [],
   "source": [
    "def show_info(*args, **kwargs):\n",
    "    print(\"Positional arguments:\", args)\n",
    "    print(\"Keyword arguments:\", kwargs)\n",
    "\n",
    "show_info(age=30, job=\"Engineer\",'Alice','Hello')\n"
   ]
  },
  {
   "cell_type": "code",
   "execution_count": null,
   "id": "e1446c74-cc57-4614-92f5-37ba63896d08",
   "metadata": {},
   "outputs": [],
   "source": [
    "def show_info(**kwargs,*args):\n",
    "    print(\"Positional arguments:\", args)\n",
    "    print(\"Keyword arguments:\", kwargs)\n",
    "\n",
    "show_info(age=30, job=\"Engineer\")\n"
   ]
  },
  {
   "cell_type": "markdown",
   "id": "2d7af7af-2ab3-4aba-b0cc-1cb45eabb418",
   "metadata": {},
   "source": [
    "- Local variables: Variables defined inside a function are local to that function. They are only accessible within the function.\n",
    "- Global variables: Variables defined outside of all functions are global. They can be accessed from anywhere in the code."
   ]
  },
  {
   "cell_type": "code",
   "execution_count": null,
   "id": "fafe0fdc-e5bd-4499-93b5-128cf9ab7731",
   "metadata": {},
   "outputs": [],
   "source": [
    "# Local and Global Variables\n",
    "\n",
    "x = 10  # Global variable\n",
    "\n",
    "def print_x():\n",
    "    x = 20  # Local variable\n",
    "    print(\"Inside function:\", x)\n",
    "\n",
    "print_x()\n",
    "print(\"Outside function:\", x)\n"
   ]
  },
  {
   "cell_type": "code",
   "execution_count": null,
   "id": "11c84fd6-5d12-4491-a73c-1edde1ffb905",
   "metadata": {},
   "outputs": [],
   "source": [
    "# Lambda Function\n",
    "square = lambda x: x ** 2\n",
    "print(square(5))\n"
   ]
  },
  {
   "cell_type": "code",
   "execution_count": null,
   "id": "d0d3280d-9635-4e7d-b0ed-be9462d4b27b",
   "metadata": {},
   "outputs": [],
   "source": [
    "# Recursive Function \n",
    "def factorial(n):\n",
    "    if n == 0 or n == 1:\n",
    "        return 1\n",
    "    else:\n",
    "        return n * factorial(n - 1)\n",
    "\n",
    "print(factorial(5))\n"
   ]
  },
  {
   "cell_type": "code",
   "execution_count": null,
   "id": "84608c11-ce6b-4d6b-9f6f-e3b476c8aa82",
   "metadata": {},
   "outputs": [],
   "source": [
    "# Higher-Order Function\n",
    "def apply_operation(x, y, operation):\n",
    "    return operation(x, y)\n",
    "\n",
    "result = apply_operation(3, 4, lambda a, b: a + b)\n",
    "print(result)\n"
   ]
  },
  {
   "cell_type": "markdown",
   "id": "2cb92ef7-1e87-449e-af20-46bcba7ac783",
   "metadata": {},
   "source": [
    "### List Comprehension"
   ]
  },
  {
   "cell_type": "code",
   "execution_count": null,
   "id": "f45c23e9-8606-45e3-a4e7-1b59148583b1",
   "metadata": {},
   "outputs": [],
   "source": [
    "# Create a list of squares of even numbers from 0 to 9\n",
    "squares = [x**2 for x in range(10) if x % 2 == 0]\n",
    "print(squares)\n"
   ]
  },
  {
   "cell_type": "markdown",
   "id": "b1e55731-71e2-4c5d-9692-a3f8a7670fcb",
   "metadata": {},
   "source": [
    "### Set Comprehension"
   ]
  },
  {
   "cell_type": "code",
   "execution_count": null,
   "id": "4632f78e-5144-41fd-940d-39697e98410b",
   "metadata": {},
   "outputs": [],
   "source": [
    "#Set comprehension to extract the odd numbers from 1 to 9\n",
    "odd_numbers = {x for x in range(1, 10) if x % 2 != 0}\n",
    "print(odd_numbers)\n"
   ]
  },
  {
   "cell_type": "markdown",
   "id": "23088f20-5804-43be-acaf-621d3ee59152",
   "metadata": {},
   "source": [
    "### Dictionary Comprehension\n"
   ]
  },
  {
   "cell_type": "code",
   "execution_count": null,
   "id": "95405b8e-8e80-4a6f-a150-1cc8725bc207",
   "metadata": {},
   "outputs": [],
   "source": [
    "# Create a dictionary where keys are numbers and values are their cube\n",
    "cube_dict = {x: x**3 for x in range(5)}\n",
    "print(cube_dict)\n"
   ]
  },
  {
   "cell_type": "code",
   "execution_count": null,
   "id": "94d5169f-4d3c-4c64-b6f6-377d05e1a12e",
   "metadata": {},
   "outputs": [],
   "source": []
  }
 ],
 "metadata": {
  "kernelspec": {
   "display_name": "Python 3 (ipykernel)",
   "language": "python",
   "name": "python3"
  },
  "language_info": {
   "codemirror_mode": {
    "name": "ipython",
    "version": 3
   },
   "file_extension": ".py",
   "mimetype": "text/x-python",
   "name": "python",
   "nbconvert_exporter": "python",
   "pygments_lexer": "ipython3",
   "version": "3.12.7"
  }
 },
 "nbformat": 4,
 "nbformat_minor": 5
}

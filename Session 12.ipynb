{
 "cells": [
  {
   "cell_type": "markdown",
   "id": "47e99143-e827-4a49-aab3-02e95105d801",
   "metadata": {},
   "source": [
    "#### Combining *args and **kwargs"
   ]
  },
  {
   "cell_type": "code",
   "execution_count": 1,
   "id": "b8f99b12-b6fa-4b37-9efd-4e0699ca789b",
   "metadata": {},
   "outputs": [
    {
     "name": "stdout",
     "output_type": "stream",
     "text": [
      "Positional arguments: ('Alice', 'Bob')\n",
      "Keyword arguments: {'age': 30, 'job': 'Engineer'}\n"
     ]
    }
   ],
   "source": [
    "# When used together, *args must appear before **kwargs in the function definition.\n",
    "\n",
    "\n",
    "def show_info(*args, **kwargs):\n",
    "    print(\"Positional arguments:\", args)\n",
    "    print(\"Keyword arguments:\", kwargs)\n",
    "\n",
    "show_info(\"Alice\", \"Bob\", age=30, job=\"Engineer\")\n"
   ]
  },
  {
   "cell_type": "code",
   "execution_count": 2,
   "id": "272a6ee2-c942-43b1-a4df-4a061c429ae2",
   "metadata": {},
   "outputs": [
    {
     "ename": "SyntaxError",
     "evalue": "positional argument follows keyword argument (2100428637.py, line 5)",
     "output_type": "error",
     "traceback": [
      "\u001b[1;36m  Cell \u001b[1;32mIn[2], line 5\u001b[1;36m\u001b[0m\n\u001b[1;33m    show_info(age=30, job=\"Engineer\",'Alice','Hello')\u001b[0m\n\u001b[1;37m                                                    ^\u001b[0m\n\u001b[1;31mSyntaxError\u001b[0m\u001b[1;31m:\u001b[0m positional argument follows keyword argument\n"
     ]
    }
   ],
   "source": [
    "def show_info(*args, **kwargs):\n",
    "    print(\"Positional arguments:\", args)\n",
    "    print(\"Keyword arguments:\", kwargs)\n",
    "\n",
    "show_info(age=30, job=\"Engineer\",'Alice','Hello')\n"
   ]
  },
  {
   "cell_type": "code",
   "execution_count": 3,
   "id": "e1446c74-cc57-4614-92f5-37ba63896d08",
   "metadata": {},
   "outputs": [
    {
     "ename": "SyntaxError",
     "evalue": "arguments cannot follow var-keyword argument (1377220385.py, line 1)",
     "output_type": "error",
     "traceback": [
      "\u001b[1;36m  Cell \u001b[1;32mIn[3], line 1\u001b[1;36m\u001b[0m\n\u001b[1;33m    def show_info(**kwargs,*args):\u001b[0m\n\u001b[1;37m                           ^\u001b[0m\n\u001b[1;31mSyntaxError\u001b[0m\u001b[1;31m:\u001b[0m arguments cannot follow var-keyword argument\n"
     ]
    }
   ],
   "source": [
    "def show_info(**kwargs,*args):\n",
    "    print(\"Positional arguments:\", args)\n",
    "    print(\"Keyword arguments:\", kwargs)\n",
    "\n",
    "show_info(age=30, job=\"Engineer\")\n"
   ]
  },
  {
   "cell_type": "code",
   "execution_count": null,
   "id": "02635e4c-beb3-4a0f-8f68-487c284342a0",
   "metadata": {},
   "outputs": [],
   "source": [
    "# Unpacking *args and **kwargs\n",
    "def show_info(*args, **kwargs):\n",
    "    print(args)\n",
    "    print(kwargs)\n",
    "\n",
    "data = (\"Alice\", \"Bob\")\n",
    "info = {\"age\": 30, \"job\": \"Engineer\"}\n",
    "\n",
    "show_info(*data, **info)\n"
   ]
  },
  {
   "cell_type": "markdown",
   "id": "2d7af7af-2ab3-4aba-b0cc-1cb45eabb418",
   "metadata": {},
   "source": [
    "- Local variables: Variables defined inside a function are local to that function. They are only accessible within the function.\n",
    "- Global variables: Variables defined outside of all functions are global. They can be accessed from anywhere in the code."
   ]
  },
  {
   "cell_type": "code",
   "execution_count": null,
   "id": "fafe0fdc-e5bd-4499-93b5-128cf9ab7731",
   "metadata": {},
   "outputs": [],
   "source": [
    "x = 10  # Global variable\n",
    "\n",
    "def print_x():\n",
    "    x = 20  # Local variable\n",
    "    print(\"Inside function:\", x)\n"
   ]
  },
  {
   "cell_type": "code",
   "execution_count": null,
   "id": "bd3d3eb2-d425-46da-bd0e-3eb7d2b99dbb",
   "metadata": {},
   "outputs": [],
   "source": [
    "#use of global keyword\n",
    "\n",
    "x = 10\n",
    "\n",
    "def modify_x():\n",
    "    global x \n",
    "    x = 20\n",
    "    print(\"Inside function:\", x)\n",
    "\n",
    "modify_x()\n",
    "print(\"Global x:\", x)\n"
   ]
  },
  {
   "cell_type": "code",
   "execution_count": 4,
   "id": "4fe4a8f0-fc51-4cad-a82d-8b3f680d0302",
   "metadata": {},
   "outputs": [
    {
     "ename": "UnboundLocalError",
     "evalue": "cannot access local variable 'x' where it is not associated with a value",
     "output_type": "error",
     "traceback": [
      "\u001b[1;31m---------------------------------------------------------------------------\u001b[0m",
      "\u001b[1;31mUnboundLocalError\u001b[0m                         Traceback (most recent call last)",
      "Cell \u001b[1;32mIn[4], line 6\u001b[0m\n\u001b[0;32m      3\u001b[0m    \u001b[38;5;28mprint\u001b[39m(x)\n\u001b[0;32m      4\u001b[0m    x \u001b[38;5;241m=\u001b[39m \u001b[38;5;241m20\u001b[39m\n\u001b[1;32m----> 6\u001b[0m my_function()\n",
      "Cell \u001b[1;32mIn[4], line 3\u001b[0m, in \u001b[0;36mmy_function\u001b[1;34m()\u001b[0m\n\u001b[0;32m      2\u001b[0m \u001b[38;5;28;01mdef\u001b[39;00m \u001b[38;5;21mmy_function\u001b[39m():\n\u001b[1;32m----> 3\u001b[0m    \u001b[38;5;28mprint\u001b[39m(x)\n\u001b[0;32m      4\u001b[0m    x \u001b[38;5;241m=\u001b[39m \u001b[38;5;241m20\u001b[39m\n",
      "\u001b[1;31mUnboundLocalError\u001b[0m: cannot access local variable 'x' where it is not associated with a value"
     ]
    }
   ],
   "source": [
    " # Accessing a Local Variable Before Assignment\n",
    "def my_function():\n",
    "    print(x)\n",
    "    x = 20\n",
    "\n",
    "my_function()\n"
   ]
  },
  {
   "cell_type": "code",
   "execution_count": null,
   "id": "11c84fd6-5d12-4491-a73c-1edde1ffb905",
   "metadata": {},
   "outputs": [],
   "source": [
    "# Lambda Function\n",
    "# The function is one-liner and doesn’t require multiple expressions or statements.\n",
    "# lambda arguments: expression\n",
    "square = lambda x: x ** 2\n",
    "print(square(5))\n"
   ]
  },
  {
   "cell_type": "code",
   "execution_count": 11,
   "id": "505d4eec-0155-4493-84a4-3ab468cfabfc",
   "metadata": {},
   "outputs": [
    {
     "ename": "TypeError",
     "evalue": "<lambda>() missing 1 required positional argument: 'y'",
     "output_type": "error",
     "traceback": [
      "\u001b[1;31m---------------------------------------------------------------------------\u001b[0m",
      "\u001b[1;31mTypeError\u001b[0m                                 Traceback (most recent call last)",
      "Cell \u001b[1;32mIn[11], line 2\u001b[0m\n\u001b[0;32m      1\u001b[0m add \u001b[38;5;241m=\u001b[39m \u001b[38;5;28;01mlambda\u001b[39;00m x,y:x\u001b[38;5;241m+\u001b[39my\n\u001b[1;32m----> 2\u001b[0m add(\u001b[38;5;241m5\u001b[39m)\n",
      "\u001b[1;31mTypeError\u001b[0m: <lambda>() missing 1 required positional argument: 'y'"
     ]
    }
   ],
   "source": [
    "add = lambda x,y:x+y\n",
    "add(5)"
   ]
  },
  {
   "cell_type": "code",
   "execution_count": 10,
   "id": "7276d6cd-c182-420a-a3d9-cc3fdde7903e",
   "metadata": {},
   "outputs": [
    {
     "data": {
      "text/plain": [
       "7"
      ]
     },
     "execution_count": 10,
     "metadata": {},
     "output_type": "execute_result"
    }
   ],
   "source": [
    "add = lambda x,y:x+y\n",
    "add(5,2)"
   ]
  },
  {
   "cell_type": "code",
   "execution_count": null,
   "id": "c0097d5b-0107-4e71-9b8e-541ee7eda52f",
   "metadata": {},
   "outputs": [],
   "source": [
    "# Lambda Functions with No Arguments\n",
    "greet = lambda: \"Hello, World!\"\n",
    "print(greet())\n"
   ]
  },
  {
   "cell_type": "markdown",
   "id": "3f426240-39a0-4fa3-b1f3-ac4db87a60de",
   "metadata": {},
   "source": [
    "### Nested Function"
   ]
  },
  {
   "cell_type": "code",
   "execution_count": 12,
   "id": "640c5172-e373-4f75-8b0e-740e910741a4",
   "metadata": {},
   "outputs": [
    {
     "name": "stdout",
     "output_type": "stream",
     "text": [
      "Outer variable: 5\n",
      "Inner variable: 10\n",
      "Outer variable inside outer function: 5\n"
     ]
    }
   ],
   "source": [
    "def outer_function(outer_variable):\n",
    "    def inner_function(inner_variable):\n",
    "        print(f\"Outer variable: {outer_variable}\")\n",
    "        print(f\"Inner variable: {inner_variable}\")\n",
    "    inner_function(10)\n",
    "    print(f\"Outer variable inside outer function: {outer_variable}\")\n",
    "\n",
    "outer_function(5)\n"
   ]
  },
  {
   "cell_type": "code",
   "execution_count": 13,
   "id": "f9bd969c-a64b-4ac0-a5e4-d8adc5f1a92d",
   "metadata": {},
   "outputs": [
    {
     "ename": "NameError",
     "evalue": "name 'inner' is not defined",
     "output_type": "error",
     "traceback": [
      "\u001b[1;31m---------------------------------------------------------------------------\u001b[0m",
      "\u001b[1;31mNameError\u001b[0m                                 Traceback (most recent call last)",
      "Cell \u001b[1;32mIn[13], line 5\u001b[0m\n\u001b[0;32m      2\u001b[0m     \u001b[38;5;28;01mdef\u001b[39;00m \u001b[38;5;21minner\u001b[39m():\n\u001b[0;32m      3\u001b[0m         \u001b[38;5;28mprint\u001b[39m(\u001b[38;5;124m\"\u001b[39m\u001b[38;5;124mInside inner function\u001b[39m\u001b[38;5;124m\"\u001b[39m)\n\u001b[1;32m----> 5\u001b[0m inner()\n",
      "\u001b[1;31mNameError\u001b[0m: name 'inner' is not defined"
     ]
    }
   ],
   "source": [
    "#Calling inner functions outside the outer function\n",
    "def outer():\n",
    "    def inner():\n",
    "        print(\"Inside inner function\")\n",
    "\n",
    "inner()\n"
   ]
  },
  {
   "cell_type": "code",
   "execution_count": 16,
   "id": "a383989c-5f44-4741-b1a0-a0fb47b848e3",
   "metadata": {},
   "outputs": [
    {
     "name": "stdout",
     "output_type": "stream",
     "text": [
      "Inside inner function\n"
     ]
    }
   ],
   "source": [
    "def outer():\n",
    "    def inner():\n",
    "        print(\"Inside inner function\")\n",
    "    return inner\n",
    "\n",
    "inner_function = outer()\n",
    "inner_function()"
   ]
  },
  {
   "cell_type": "code",
   "execution_count": 19,
   "id": "6772d73c-eb0f-48fb-862a-5726643558d2",
   "metadata": {},
   "outputs": [
    {
     "name": "stdin",
     "output_type": "stream",
     "text": [
      "Enter the length of the rectangle:  22\n",
      "Enter the width of the rectangle:  22\n"
     ]
    },
    {
     "name": "stdout",
     "output_type": "stream",
     "text": [
      "Area of rectangle: 484.0\n",
      "Perimeter of rectangle: 88.0\n"
     ]
    }
   ],
   "source": [
    "#Calculate the area and perimeter of a rectangle\n",
    "\n",
    "def rectangle_calculator():\n",
    "    def calculate_area(length, width):\n",
    "        return length * width  # Area\n",
    "\n",
    "    def calculate_perimeter(length, width):\n",
    "        return 2 * (length + width)  # Perimeter\n",
    "\n",
    "    # Input\n",
    "    length = float(input(\"Enter the length of the rectangle: \"))\n",
    "    width = float(input(\"Enter the width of the rectangle: \"))\n",
    "\n",
    "    area = calculate_area(length, width)\n",
    "    perimeter = calculate_perimeter(length, width)\n",
    "\n",
    "    print(f\"Area of rectangle: {area}\")\n",
    "    print(f\"Perimeter of rectangle: {perimeter}\")\n",
    "\n",
    "rectangle_calculator()\n"
   ]
  },
  {
   "cell_type": "markdown",
   "id": "ee9c1ee5-7823-4b16-acdd-0677a40d350c",
   "metadata": {},
   "source": [
    "### List Comprehension"
   ]
  },
  {
   "cell_type": "code",
   "execution_count": null,
   "id": "95aac711-5073-4a3b-afdb-43fd451001b4",
   "metadata": {},
   "outputs": [],
   "source": [
    "squares = [x ** 2 for x in range(5)]\n",
    "print(squares)\n"
   ]
  },
  {
   "cell_type": "code",
   "execution_count": null,
   "id": "35a6862a-9d30-4dcb-a2f1-e32768e3f150",
   "metadata": {},
   "outputs": [],
   "source": [
    "even_numbers = [x for x in range(10) if x % 2 == 0]\n",
    "print(even_numbers) "
   ]
  },
  {
   "cell_type": "code",
   "execution_count": 18,
   "id": "53d902cd-2440-475b-8055-8aeacd90f862",
   "metadata": {},
   "outputs": [
    {
     "name": "stdout",
     "output_type": "stream",
     "text": [
      "[0, 1, 4, 9, 16]\n"
     ]
    }
   ],
   "source": [
    "# Using Function Inside List Comprehension:\n",
    "def square(x):\n",
    "    return x ** 2\n",
    "\n",
    "squares = [square(x) for x in range(5)]\n",
    "print(squares)\n"
   ]
  },
  {
   "cell_type": "code",
   "execution_count": null,
   "id": "301167ff-6f72-4930-928f-dbc3ae03e3b7",
   "metadata": {},
   "outputs": [],
   "source": []
  },
  {
   "cell_type": "code",
   "execution_count": null,
   "id": "fa81ecaa-2b14-4370-bd86-286ce332e786",
   "metadata": {},
   "outputs": [],
   "source": []
  },
  {
   "cell_type": "code",
   "execution_count": null,
   "id": "71f75153-36c6-4dbc-a949-1c73a4082214",
   "metadata": {},
   "outputs": [],
   "source": []
  }
 ],
 "metadata": {
  "kernelspec": {
   "display_name": "Python 3 (ipykernel)",
   "language": "python",
   "name": "python3"
  },
  "language_info": {
   "codemirror_mode": {
    "name": "ipython",
    "version": 3
   },
   "file_extension": ".py",
   "mimetype": "text/x-python",
   "name": "python",
   "nbconvert_exporter": "python",
   "pygments_lexer": "ipython3",
   "version": "3.12.7"
  }
 },
 "nbformat": 4,
 "nbformat_minor": 5
}

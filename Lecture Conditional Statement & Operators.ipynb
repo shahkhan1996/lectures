{
 "cells": [
  {
   "cell_type": "markdown",
   "id": "cf5c1954-541e-4b51-93c3-ea897c543b2e",
   "metadata": {},
   "source": [
    "## Relational Operators\n",
    "#### Relational (or comparison) operators are used to compare two values. These operators return a Boolean value (True or False), and are commonly used in if, elif, and while statements.\n"
   ]
  },
  {
   "cell_type": "code",
   "execution_count": 8,
   "id": "3f2a8a66-c573-4127-8cf0-5227897f566e",
   "metadata": {},
   "outputs": [],
   "source": [
    "x = 1\n",
    "y = 2\n",
    "z = 4\n",
    "p = 2"
   ]
  },
  {
   "cell_type": "code",
   "execution_count": 5,
   "id": "1502bf63-ecaf-428e-bf1f-35f774d44b9f",
   "metadata": {},
   "outputs": [
    {
     "data": {
      "text/plain": [
       "True"
      ]
     },
     "execution_count": 5,
     "metadata": {},
     "output_type": "execute_result"
    }
   ],
   "source": [
    "x == x"
   ]
  },
  {
   "cell_type": "code",
   "execution_count": 6,
   "id": "2fcf730d-96e5-4bdd-ae0e-278c1a58ca95",
   "metadata": {},
   "outputs": [
    {
     "data": {
      "text/plain": [
       "True"
      ]
     },
     "execution_count": 6,
     "metadata": {},
     "output_type": "execute_result"
    }
   ],
   "source": [
    "y != z"
   ]
  },
  {
   "cell_type": "markdown",
   "id": "458304ca-35e9-4a01-9d92-039789497d4c",
   "metadata": {},
   "source": [
    "# Logical Operators\n",
    "#### Logical operators allow you to combine multiple conditions into one complex condition. These operators are commonly used to combine relational conditions and make decisions based on multiple criteria."
   ]
  },
  {
   "cell_type": "code",
   "execution_count": 10,
   "id": "888fa5eb-04da-438c-89e0-05e544b5a4f5",
   "metadata": {},
   "outputs": [
    {
     "data": {
      "text/plain": [
       "False"
      ]
     },
     "execution_count": 10,
     "metadata": {},
     "output_type": "execute_result"
    }
   ],
   "source": [
    "x <= p and y >= z"
   ]
  },
  {
   "cell_type": "code",
   "execution_count": 12,
   "id": "7ebd53f4-5f0d-4e2c-bcd8-c3e1b1f87433",
   "metadata": {},
   "outputs": [
    {
     "data": {
      "text/plain": [
       "True"
      ]
     },
     "execution_count": 12,
     "metadata": {},
     "output_type": "execute_result"
    }
   ],
   "source": [
    "x <= p or y >= z"
   ]
  },
  {
   "cell_type": "code",
   "execution_count": 22,
   "id": "5587d970-dcc4-4b6b-8236-83fbdf44f3ff",
   "metadata": {},
   "outputs": [
    {
     "data": {
      "text/plain": [
       "False"
      ]
     },
     "execution_count": 22,
     "metadata": {},
     "output_type": "execute_result"
    }
   ],
   "source": [
    "not x <= 1"
   ]
  },
  {
   "cell_type": "code",
   "execution_count": 25,
   "id": "e8ba561f-cf2f-4d63-92d5-6e0ac4222d5a",
   "metadata": {},
   "outputs": [
    {
     "data": {
      "text/plain": [
       "True"
      ]
     },
     "execution_count": 25,
     "metadata": {},
     "output_type": "execute_result"
    }
   ],
   "source": [
    "not x > 3"
   ]
  },
  {
   "cell_type": "code",
   "execution_count": 29,
   "id": "090e3e1d-4cab-4fa4-9f20-0adf670002ce",
   "metadata": {},
   "outputs": [
    {
     "data": {
      "text/plain": [
       "True"
      ]
     },
     "execution_count": 29,
     "metadata": {},
     "output_type": "execute_result"
    }
   ],
   "source": [
    "not x > 3 or not x <= 1"
   ]
  },
  {
   "cell_type": "code",
   "execution_count": 30,
   "id": "7d7bde58-7b75-466b-aead-1d530fe0f93e",
   "metadata": {},
   "outputs": [
    {
     "data": {
      "text/plain": [
       "False"
      ]
     },
     "execution_count": 30,
     "metadata": {},
     "output_type": "execute_result"
    }
   ],
   "source": [
    "not x > 3 and not x <= 1"
   ]
  },
  {
   "cell_type": "code",
   "execution_count": 88,
   "id": "78f23370-0b43-4596-9a95-ca66bfeb4a17",
   "metadata": {},
   "outputs": [
    {
     "name": "stdin",
     "output_type": "stream",
     "text": [
      "Enter your password:  23234s\n"
     ]
    },
    {
     "name": "stdout",
     "output_type": "stream",
     "text": [
      "Password is valid.\n"
     ]
    }
   ],
   "source": [
    "#use case of not\n",
    "password = input(\"Enter your password: \")\n",
    "\n",
    "if not password:\n",
    "    print(\"Password cannot be empty!\")\n",
    "else:\n",
    "    print(\"Password is valid.\")"
   ]
  },
  {
   "cell_type": "markdown",
   "id": "12d2766e-db14-4e82-8aed-417fdda7ceb9",
   "metadata": {},
   "source": [
    "## IF-ELIF-ELSE"
   ]
  },
  {
   "cell_type": "code",
   "execution_count": 90,
   "id": "7d38e5b7-76c4-49f4-849d-7aac670fa25f",
   "metadata": {},
   "outputs": [],
   "source": [
    "# signal light example"
   ]
  },
  {
   "cell_type": "code",
   "execution_count": 118,
   "id": "ba624279-eb6c-4725-90f7-efb19da01dac",
   "metadata": {},
   "outputs": [],
   "source": [
    "# or and (Job Application)\n",
    "province = \"sindh\"\n",
    "education = \"graduate\"\n",
    "age = 25\n"
   ]
  },
  {
   "cell_type": "code",
   "execution_count": null,
   "id": "2ef7f95a-2ace-4fb8-a62a-32fd554bd87f",
   "metadata": {},
   "outputs": [],
   "source": [
    "#student grading"
   ]
  },
  {
   "cell_type": "code",
   "execution_count": null,
   "id": "24be8793-3398-40a7-b0e6-5bf06daea219",
   "metadata": {},
   "outputs": [],
   "source": []
  },
  {
   "cell_type": "code",
   "execution_count": null,
   "id": "2a238a6a-027c-4968-b8e3-f7d72bb68a32",
   "metadata": {},
   "outputs": [],
   "source": []
  },
  {
   "cell_type": "markdown",
   "id": "16e444fd-2dc4-43f3-94c3-3273ede3093a",
   "metadata": {},
   "source": [
    "## Practise Questions"
   ]
  },
  {
   "cell_type": "code",
   "execution_count": null,
   "id": "ce356c07-d3c6-4911-b20d-679e9152e673",
   "metadata": {},
   "outputs": [],
   "source": []
  },
  {
   "cell_type": "code",
   "execution_count": 100,
   "id": "f34617f8-c038-48dc-ad34-f2ce9c2a6966",
   "metadata": {},
   "outputs": [
    {
     "name": "stdin",
     "output_type": "stream",
     "text": [
      "enter number:  4\n"
     ]
    },
    {
     "name": "stdout",
     "output_type": "stream",
     "text": [
      "even\n"
     ]
    }
   ],
   "source": [
    "#WAP to check if a number entered by user is even or odd?\n",
    "num = int(input(\"enter number: \"))\n",
    "rem = num % 2\n"
   ]
  },
  {
   "cell_type": "code",
   "execution_count": null,
   "id": "f3ef9b6f-8f5d-46cf-9ba7-a06487e8bde3",
   "metadata": {},
   "outputs": [],
   "source": []
  },
  {
   "cell_type": "code",
   "execution_count": 82,
   "id": "8ef41a2b-58c9-436d-8e9c-4472045e3f43",
   "metadata": {},
   "outputs": [
    {
     "name": "stdin",
     "output_type": "stream",
     "text": [
      "enter number:  3\n"
     ]
    },
    {
     "name": "stdout",
     "output_type": "stream",
     "text": [
      "not a multiple of 5\n"
     ]
    }
   ],
   "source": [
    "# WAP to check if number is a multiple of 5 or not\n",
    "x = int(input(\"enter number: \"))\n",
    "y = x%5\n",
    "\n"
   ]
  },
  {
   "cell_type": "markdown",
   "id": "2cfb96dc-d556-4a42-b534-8548b7685c3c",
   "metadata": {},
   "source": [
    "## Nested if"
   ]
  },
  {
   "cell_type": "code",
   "execution_count": null,
   "id": "e6fbb454-7c05-466b-ac4d-fb00ea12bb43",
   "metadata": {},
   "outputs": [],
   "source": []
  },
  {
   "cell_type": "code",
   "execution_count": 87,
   "id": "8491e88c-f3f9-433d-a9fe-94f475f7cdad",
   "metadata": {},
   "outputs": [
    {
     "name": "stdin",
     "output_type": "stream",
     "text": [
      "enter age:  11\n"
     ]
    },
    {
     "name": "stdout",
     "output_type": "stream",
     "text": [
      "cannot drive\n"
     ]
    }
   ],
   "source": [
    "age = int(input(\"enter age: \"))\n",
    "if(age >= 18):\n",
    "    if(age >= 80):\n",
    "        print(\"cannot drive\")\n",
    "    else:\n",
    "        print(\"can drive\")\n",
    "else:\n",
    "    print(\"cannot drive\")"
   ]
  },
  {
   "cell_type": "code",
   "execution_count": 94,
   "id": "082c636e-b974-4513-9d55-99f2d4efb29b",
   "metadata": {},
   "outputs": [
    {
     "name": "stdout",
     "output_type": "stream",
     "text": [
      "you are welcome\n"
     ]
    }
   ],
   "source": []
  },
  {
   "cell_type": "code",
   "execution_count": 117,
   "id": "3a29122c-2176-4d17-aaa7-a27c8f71d06d",
   "metadata": {},
   "outputs": [],
   "source": [
    "visa = \"valid\"\n",
    "account_statement = 5000001\n",
    "purpose = \"job\"\n",
    "admission_letter = \"no\"\n",
    "job_recommendation = \"no\"\n"
   ]
  },
  {
   "cell_type": "code",
   "execution_count": null,
   "id": "ee3c1f3c-eec2-4ba5-838d-b5a846284920",
   "metadata": {},
   "outputs": [],
   "source": []
  },
  {
   "cell_type": "code",
   "execution_count": null,
   "id": "1776ad14-0396-4184-8de4-09e300c3a84b",
   "metadata": {},
   "outputs": [],
   "source": []
  },
  {
   "cell_type": "code",
   "execution_count": null,
   "id": "218679f7-e762-4c13-be7f-caa0ec9f9906",
   "metadata": {},
   "outputs": [],
   "source": []
  },
  {
   "cell_type": "code",
   "execution_count": null,
   "id": "47bba970-34a8-41b7-bf84-6bb5bba5d8b6",
   "metadata": {},
   "outputs": [],
   "source": []
  },
  {
   "cell_type": "code",
   "execution_count": null,
   "id": "0f9858af-3f18-40f1-87b8-9676cca08eb7",
   "metadata": {},
   "outputs": [],
   "source": []
  },
  {
   "cell_type": "code",
   "execution_count": null,
   "id": "1cbb82d2-d384-4598-b2a9-49d043651015",
   "metadata": {},
   "outputs": [],
   "source": []
  },
  {
   "cell_type": "code",
   "execution_count": null,
   "id": "6917664e-9544-4f03-804d-aaeee3510cf9",
   "metadata": {},
   "outputs": [],
   "source": []
  },
  {
   "cell_type": "code",
   "execution_count": null,
   "id": "df3a9131-72cb-49bb-8c28-a8e6fe456943",
   "metadata": {},
   "outputs": [],
   "source": []
  },
  {
   "cell_type": "code",
   "execution_count": null,
   "id": "7291f8ec-9803-4432-b719-3bdc7b5aa9d2",
   "metadata": {},
   "outputs": [],
   "source": []
  },
  {
   "cell_type": "code",
   "execution_count": null,
   "id": "62bfc122-09a2-4385-b443-92a7280334f1",
   "metadata": {},
   "outputs": [],
   "source": []
  },
  {
   "cell_type": "markdown",
   "id": "1c5aa0d5-33b0-4e26-8aff-f8502a2f5182",
   "metadata": {},
   "source": [
    "## Identity Operators\n",
    "#### Identity operators are used to compare the memory location of two objects. These are different from the relational operators because they check if two variables refer to the same object, not if their values are equal."
   ]
  },
  {
   "cell_type": "code",
   "execution_count": 51,
   "id": "3f1de7cf-7e3c-4107-b807-75f77eabae27",
   "metadata": {},
   "outputs": [
    {
     "name": "stdout",
     "output_type": "stream",
     "text": [
      "x and y are different objects\n",
      "x and z refer to the same object\n"
     ]
    }
   ],
   "source": [
    "#blood relation\n",
    "x = [1, 2, 3]\n",
    "y = [1, 2, 3]\n",
    "z = x\n",
    "\n",
    "if x is y:\n",
    "    print(\"x and y are the same object\")\n",
    "else:\n",
    "    print(\"x and y are different objects\")\n",
    "\n",
    "if x is z:\n",
    "    print(\"x and z refer to the same object\")\n",
    "else:\n",
    "    print(\"x and z are different objects\")"
   ]
  },
  {
   "cell_type": "code",
   "execution_count": 60,
   "id": "fee9f0c0-741b-416f-900c-2c0837e2d2ae",
   "metadata": {},
   "outputs": [
    {
     "name": "stdout",
     "output_type": "stream",
     "text": [
      "a and b are the same object.\n",
      "a and c are different objects.\n"
     ]
    }
   ],
   "source": [
    "a = [1, 2, 3]\n",
    "b = a\n",
    "c = [1, 2, 3] \n",
    "\n",
    "if a is b:\n",
    "    print(\"a and b are the same object.\")\n",
    "else:\n",
    "    print(\"a and b are different objects.\")\n",
    "\n",
    "if a is not c:\n",
    "    print(\"a and c are different objects.\")\n",
    "else:\n",
    "    print(\"a and c are the same object.\")"
   ]
  },
  {
   "cell_type": "markdown",
   "id": "e1d51ec5-82fd-4300-acbc-9307bc30db91",
   "metadata": {},
   "source": [
    "## Membership Operators\n",
    "#### Membership operators are used to test whether a value is present in a sequence (such as a list, tuple, or string). These operators are often used in loops or conditions to check membership."
   ]
  },
  {
   "cell_type": "code",
   "execution_count": 32,
   "id": "53c71d15-9a53-45c4-8667-eeee088df655",
   "metadata": {},
   "outputs": [
    {
     "name": "stdout",
     "output_type": "stream",
     "text": [
      "Apple is in the list.\n"
     ]
    }
   ],
   "source": [
    "fruits = [\"apple\", \"banana\", \"cherry\"]\n",
    "\n",
    "if \"apple\" in fruits:\n",
    "    print(\"Apple is in the list.\")\n",
    "else:\n",
    "    print(\"Apple is not in the list.\")\n"
   ]
  },
  {
   "cell_type": "code",
   "execution_count": 40,
   "id": "8d138cd5-941d-4b83-86ca-595c3737f30a",
   "metadata": {},
   "outputs": [
    {
     "name": "stdin",
     "output_type": "stream",
     "text": [
      "Enter your username:  Bob\n"
     ]
    },
    {
     "name": "stdout",
     "output_type": "stream",
     "text": [
      "Access granted.\n"
     ]
    }
   ],
   "source": [
    "allowed_users = [\"Alice\", \"Bob\", \"Charlie\"]\n",
    "username = input(\"Enter your username: \")\n",
    "\n",
    "if username in allowed_users:\n",
    "    print(\"Access granted.\")\n",
    "else:\n",
    "    print(\"Access denied.\")\n"
   ]
  },
  {
   "cell_type": "code",
   "execution_count": 43,
   "id": "acaabdfc-1b90-4afa-bcd3-bc2703d6e05e",
   "metadata": {},
   "outputs": [
    {
     "name": "stdout",
     "output_type": "stream",
     "text": [
      "Apple is not in your cart.\n"
     ]
    }
   ],
   "source": [
    "cart_items = [\"banana\", \"cherry\", \"pear\"]\n",
    "\n",
    "if \"apple\" not in cart_items:\n",
    "    print(\"Apple is not in your cart.\")\n",
    "else:\n",
    "    print(\"Apple is already in your cart.\")\n"
   ]
  },
  {
   "cell_type": "markdown",
   "id": "83eaafc5-97ad-4fa1-b53d-b7417927b5c5",
   "metadata": {},
   "source": [
    "## Assignment Operators"
   ]
  },
  {
   "cell_type": "code",
   "execution_count": 68,
   "id": "aabced0d-2aa6-4843-8089-86c92eac5ecc",
   "metadata": {},
   "outputs": [
    {
     "data": {
      "text/plain": [
       "10"
      ]
     },
     "execution_count": 68,
     "metadata": {},
     "output_type": "execute_result"
    }
   ],
   "source": [
    "x = 30\n",
    "x //= 3\t\n",
    "x"
   ]
  },
  {
   "cell_type": "code",
   "execution_count": 69,
   "id": "ca7f3591-f199-4819-a245-c33208eafc60",
   "metadata": {},
   "outputs": [
    {
     "data": {
      "text/plain": [
       "33"
      ]
     },
     "execution_count": 69,
     "metadata": {},
     "output_type": "execute_result"
    }
   ],
   "source": [
    "x = 30\n",
    "x += 3\t\n",
    "x"
   ]
  },
  {
   "cell_type": "code",
   "execution_count": 81,
   "id": "5707c4b5-1ae6-4a63-b098-33779f3dfb23",
   "metadata": {},
   "outputs": [
    {
     "name": "stdin",
     "output_type": "stream",
     "text": [
      "enter:  77\n"
     ]
    },
    {
     "name": "stdout",
     "output_type": "stream",
     "text": [
      "74\n"
     ]
    }
   ],
   "source": [
    "x = int(input(\"enter: \"))\n",
    "x -= 3\t\n",
    "print(x)"
   ]
  },
  {
   "cell_type": "code",
   "execution_count": 73,
   "id": "1861b951-843c-47f2-9630-f37dfdd02e35",
   "metadata": {},
   "outputs": [
    {
     "data": {
      "text/plain": [
       "0"
      ]
     },
     "execution_count": 73,
     "metadata": {},
     "output_type": "execute_result"
    }
   ],
   "source": [
    "x = 30\n",
    "x %= 3\t\n",
    "x"
   ]
  },
  {
   "cell_type": "code",
   "execution_count": 74,
   "id": "ffdc52e8-bc2f-48b2-97a9-4ac44a8ff005",
   "metadata": {},
   "outputs": [
    {
     "data": {
      "text/plain": [
       "9"
      ]
     },
     "execution_count": 74,
     "metadata": {},
     "output_type": "execute_result"
    }
   ],
   "source": [
    "x = 3\n",
    "x **= 2\n",
    "x"
   ]
  },
  {
   "cell_type": "code",
   "execution_count": null,
   "id": "e2f5442d-b523-4739-ae20-c03befdb7156",
   "metadata": {},
   "outputs": [],
   "source": []
  }
 ],
 "metadata": {
  "kernelspec": {
   "display_name": "Python 3 (ipykernel)",
   "language": "python",
   "name": "python3"
  },
  "language_info": {
   "codemirror_mode": {
    "name": "ipython",
    "version": 3
   },
   "file_extension": ".py",
   "mimetype": "text/x-python",
   "name": "python",
   "nbconvert_exporter": "python",
   "pygments_lexer": "ipython3",
   "version": "3.12.4"
  }
 },
 "nbformat": 4,
 "nbformat_minor": 5
}

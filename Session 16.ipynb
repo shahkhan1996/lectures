{
 "cells": [
  {
   "cell_type": "code",
   "execution_count": null,
   "id": "33eaaebe-f4cc-4213-ae01-50f1bf150def",
   "metadata": {},
   "outputs": [],
   "source": []
  },
  {
   "cell_type": "code",
   "execution_count": null,
   "id": "466b4372-993f-4f50-8436-4fdb9f45db95",
   "metadata": {},
   "outputs": [],
   "source": [
    "def add():\n",
    "    print(\"Add both values:\", 5+6)"
   ]
  },
  {
   "cell_type": "code",
   "execution_count": null,
   "id": "e9d6c727-ec78-45f6-b0b6-1ea164cc86bf",
   "metadata": {},
   "outputs": [],
   "source": [
    "def BODMAS(value):\n",
    "    def subtract():\n",
    "        print(\"subtract the value: \", 10-4)\n",
    "        value()\n",
    "        print(\"I am doing all exercise by using BODMAS rule\")\n",
    "\n",
    "    def division():\n",
    "        print(\"division\" , 10/2)\n",
    "        value()\n",
    "        print(\"I am doing all exercise by by using BODMAS rule\")\n",
    "        # return subtract\n",
    "    return division"
   ]
  },
  {
   "cell_type": "code",
   "execution_count": null,
   "id": "24816786-02eb-4ff0-a961-61811abe9403",
   "metadata": {},
   "outputs": [],
   "source": [
    "func_call = BODMAS(add)"
   ]
  },
  {
   "cell_type": "code",
   "execution_count": null,
   "id": "d3b6631a-9ad5-46ba-998d-e3db537a9769",
   "metadata": {},
   "outputs": [],
   "source": [
    "func_call()"
   ]
  },
  {
   "cell_type": "code",
   "execution_count": null,
   "id": "ff1462d0-1492-41d5-b607-db57944483a0",
   "metadata": {},
   "outputs": [],
   "source": [
    "def BODMAS(value):\n",
    "    def subtract():\n",
    "        print(\"subtract the value: \", 10-4)\n",
    "        value()\n",
    "        print(\"I am doing all exercise by using BODMAS rule\")\n",
    "\n",
    "    def division():\n",
    "        print(\"division\" , 10/2)\n",
    "        subtract()\n",
    "        print(\"I am doing all exercise by by using BODMAS rule\")\n",
    "        # return subtract\n",
    "    return division"
   ]
  },
  {
   "cell_type": "code",
   "execution_count": null,
   "id": "ff81dac6-0bab-4215-97be-1ad3b7ea1da8",
   "metadata": {},
   "outputs": [],
   "source": [
    "func_call = BODMAS(add)"
   ]
  },
  {
   "cell_type": "code",
   "execution_count": null,
   "id": "29b6c190-cfaf-4c77-9a8e-60954e7e685e",
   "metadata": {},
   "outputs": [],
   "source": [
    "func_call()"
   ]
  },
  {
   "cell_type": "code",
   "execution_count": null,
   "id": "d50d897d-8bd5-46a1-a1ab-fd74bb358f99",
   "metadata": {},
   "outputs": [],
   "source": [
    "@BODMAS #with syntatic sugar\n",
    "def add(): #BODMAS(add)\n",
    "    print(\"Add both values:\", 5+6)\n",
    "add()"
   ]
  },
  {
   "cell_type": "code",
   "execution_count": null,
   "id": "ba00d020-1c84-4b67-84dd-148c4c0d1a51",
   "metadata": {},
   "outputs": [],
   "source": [
    "#noraml function\n",
    "\n",
    "def study(result):\n",
    "    print(f\"my this class result is {result}%\")\n",
    "study(90)"
   ]
  },
  {
   "cell_type": "code",
   "execution_count": null,
   "id": "c5b79dc8-09ae-4265-b57a-bce0377aaa5d",
   "metadata": {},
   "outputs": [],
   "source": [
    "#arguments in nested func\n",
    "def subjects(original_function):\n",
    "    def student():\n",
    "        print(\"Ayaan is learning maths\")\n",
    "        original_function()\n",
    "        print(\"*******Ayaan is also learning another subjects********\")\n",
    "    return student"
   ]
  },
  {
   "cell_type": "code",
   "execution_count": null,
   "id": "055a64de-e1f3-4be8-8ddb-dddd99281a0f",
   "metadata": {},
   "outputs": [],
   "source": [
    "# Decorated Function \n",
    "@subjects #subjects(study)\n",
    "def study(result): #subjects function returns the student function, which will now replace study when you call study(90)\n",
    "    print(f\"my this class result is {result}%\")\n",
    "study(90)"
   ]
  },
  {
   "cell_type": "code",
   "execution_count": null,
   "id": "2b7fc09c-fd97-4e5c-acbb-2fc3c999e11e",
   "metadata": {},
   "outputs": [],
   "source": [
    "# Decorator Function\n",
    "def subjects(original_function):\n",
    "    def student(args):\n",
    "        print(\"Ayaan is learning maths\")\n",
    "        original_function(args)\n",
    "        print(\"Ayaan is also learning another subjects\")\n",
    "    return student\n",
    "\n",
    "\n",
    "# Decorated Function\n",
    "@subjects\n",
    "def study(result):\n",
    "    print(f\"my this class result is {result}%\")\n",
    "study(90)"
   ]
  },
  {
   "cell_type": "code",
   "execution_count": null,
   "id": "eccff651-d913-455b-b4d1-c520a1120dbd",
   "metadata": {},
   "outputs": [],
   "source": [
    "# Decorator Function\n",
    "def subjects(original_function):\n",
    "    def student(arg):\n",
    "        print(\"Ayaan is learning maths\")\n",
    "        original_function(arg)\n",
    "        print(\"Ayaan is also learning another subjects\")\n",
    "    return student\n",
    "\n",
    "\n",
    "# Decorated Function\n",
    "@subjects\n",
    "def study(result, per):\n",
    "    print(f\"my this class grade is {result}% and next time InshaAllah will get{per}%\")\n",
    "study(90,99)"
   ]
  },
  {
   "cell_type": "code",
   "execution_count": null,
   "id": "d009c072-5c6b-4866-891a-b84e9af62501",
   "metadata": {},
   "outputs": [],
   "source": [
    "# Decorator Function\n",
    "def subjects(original_function):\n",
    "    def student(*args):\n",
    "        print(\"Ayaan is learning maths\")\n",
    "        original_function(*args)\n",
    "        print(\"Ayaan is also learning another subjects\")\n",
    "    return student\n",
    "\n",
    "\n",
    "# Decorated Function\n",
    "@subjects\n",
    "def study(result, per):\n",
    "    print(f\"my this class grade is {result}% and next time InshaAllah will get {per}%\")\n",
    "study(90,99)"
   ]
  },
  {
   "cell_type": "code",
   "execution_count": null,
   "id": "7ecbb044-31c6-4147-b08c-5c684530c592",
   "metadata": {},
   "outputs": [],
   "source": [
    "study(result = 70, per = 80)"
   ]
  },
  {
   "cell_type": "code",
   "execution_count": null,
   "id": "15943672-b5a5-40c3-87ed-aa350f21098b",
   "metadata": {},
   "outputs": [],
   "source": [
    "# Decorator Function\n",
    "def subjects(original_function):\n",
    "    def student(*args,**kwargs):\n",
    "        print(\"Ayaan is learning maths\")\n",
    "        original_function(*args,**kwargs)\n",
    "        print(\"Ayaan is also learning another subjects\")\n",
    "    return student\n",
    "\n",
    "\n",
    "# Decorated Function\n",
    "@subjects\n",
    "def study(result, per):\n",
    "    print(f\"my this class result is {result}% and next time InshaAllah will get {per}%\")\n",
    "study(90,99) # Positional argument"
   ]
  },
  {
   "cell_type": "code",
   "execution_count": null,
   "id": "8ab21a7d-6f5c-4812-9b83-9ba8b2b6a230",
   "metadata": {},
   "outputs": [],
   "source": [
    "study(result = 70, per = 80) # Keywords argument"
   ]
  },
  {
   "cell_type": "code",
   "execution_count": null,
   "id": "46d676a5-22cc-4a8b-8051-6771e1bb6f31",
   "metadata": {},
   "outputs": [],
   "source": [
    "# Decorator Function\n",
    "def subjects(original_function):\n",
    "    def student(*args,**kwargs):\n",
    "        print(\"Ayaan is learning maths\")\n",
    "        original_function(*args,**kwargs)\n",
    "        print(\"Ayaan is also learning another subjects\")\n",
    "    return student\n",
    "\n",
    "\n",
    "# Decorated Function\n",
    "@subjects\n",
    "def study(result, per):\n",
    "    print(f\"my this class result is {result}% and next time InshaAllah will get {per}%\")\n",
    "\n",
    "# one keyword and one positional argument\n",
    "study(70, per=80)"
   ]
  },
  {
   "cell_type": "code",
   "execution_count": null,
   "id": "b9299e74-2804-40d1-b009-23e6ba409583",
   "metadata": {},
   "outputs": [],
   "source": [
    "study(result=70, 80)"
   ]
  },
  {
   "cell_type": "markdown",
   "id": "acb1d6ee-5d19-48eb-a8b4-5dcdd4ed150f",
   "metadata": {},
   "source": [
    "### Error Handling"
   ]
  },
  {
   "cell_type": "markdown",
   "id": "f88d5496-6f0a-411a-b7b6-8763f5b1dd22",
   "metadata": {},
   "source": [
    "try, except, else, finally"
   ]
  },
  {
   "cell_type": "code",
   "execution_count": null,
   "id": "a0bb2b1e-e310-42f3-990d-c0a3bfb451f4",
   "metadata": {},
   "outputs": [],
   "source": [
    "print(2/3)"
   ]
  },
  {
   "cell_type": "code",
   "execution_count": null,
   "id": "c1b1357c-97fa-49b8-9f13-38f311077565",
   "metadata": {},
   "outputs": [],
   "source": [
    "print(2/4)\n",
    "\n",
    "try:                   #provide multiple logic in try block\n",
    "\n",
    "except\n",
    "\n",
    "print(2/2)"
   ]
  },
  {
   "cell_type": "code",
   "execution_count": null,
   "id": "29eea5c4-365d-4742-9f93-905677038edf",
   "metadata": {},
   "outputs": [],
   "source": [
    "print(2/4)\n",
    "\n",
    "try:\n",
    "    print(2/5)\n",
    "except ZeroDivisionError:\n",
    "\n",
    "print(2/2)"
   ]
  },
  {
   "cell_type": "code",
   "execution_count": null,
   "id": "528d7efc-9f94-4f04-a952-3b6fcf468e21",
   "metadata": {},
   "outputs": [],
   "source": [
    "try:\n",
    "    x = int(input('Enter Number: '))\n",
    "    print('valid number')\n",
    "except ValueError:\n",
    "    print('invalid number')"
   ]
  },
  {
   "cell_type": "code",
   "execution_count": null,
   "id": "dfa5ad5a-2548-4306-b9fd-54c6ac94bd79",
   "metadata": {},
   "outputs": [],
   "source": [
    "try: \n",
    "    x = int(input(\"Enter a number: \"))\n",
    "    y = 10 / x\n",
    "    print(f\"Result: {y}\")\n",
    "except ZeroDivisionError:           #more than one exception\n",
    "    \n",
    "except ValueError:\n"
   ]
  },
  {
   "cell_type": "code",
   "execution_count": null,
   "id": "c9030296-986f-4a89-9cc1-286f7312e6fe",
   "metadata": {},
   "outputs": [],
   "source": [
    "try:\n",
    "    x = int(input(\"Enter a number: \"))\n",
    "    y = 10 / x\n",
    "    print(f\"Result: {y}\")\n",
    "    \n",
    "except Exception as error: #used to hanlde python built-in exceptions\n"
   ]
  },
  {
   "cell_type": "code",
   "execution_count": null,
   "id": "a2ad7ed4-f3bd-4063-a54e-5bc30bbb0bea",
   "metadata": {},
   "outputs": [],
   "source": [
    "try:\n",
    "    x = int(input(\"Enter a number: \"))\n",
    "    y = 10 / x\n",
    "    print(f\"Result: {y}\")\n",
    "except Exception:\n",
    "    print(f\"An unexpected error occurred: {Exception}\")"
   ]
  },
  {
   "cell_type": "code",
   "execution_count": null,
   "id": "433ff71a-ba74-4931-9b28-b3f063c0c967",
   "metadata": {},
   "outputs": [],
   "source": [
    "try:\n",
    "    x = int(input(\"Enter a number: \"))\n",
    "    y = 10 / x\n",
    "    print(f\"Result: {y}\")\n",
    "except Exception as error:\n",
    "    print(f\"An unexpected error occurred: {error}\")"
   ]
  },
  {
   "cell_type": "code",
   "execution_count": null,
   "id": "27fee6c9-0b79-42e7-a23e-8e75cbc5890d",
   "metadata": {},
   "outputs": [],
   "source": [
    "try:\n",
    "    number = int(input(\"Enter a number: \"))\n",
    "except ValueError:\n",
    "    print(\"That's not a valid number!\")\n",
    "else: #optional\n",
    "    print(f\"You entered the number: {number}\")"
   ]
  },
  {
   "cell_type": "code",
   "execution_count": null,
   "id": "e6b47f9e-bea7-4890-84b4-d45748efaff4",
   "metadata": {},
   "outputs": [],
   "source": [
    "try:\n",
    "    number = int(input(\"Enter a number: \"))\n",
    "    print(f\"You entered the number: {number}\") #without else\n",
    "except ValueError:\n",
    "    print(\"That's not a valid number!\")\n",
    "# else: #optional\n",
    "#     print(f\"You entered the number: {number}\")"
   ]
  },
  {
   "cell_type": "code",
   "execution_count": null,
   "id": "376ba87f-4002-4a20-9968-19b3599b247e",
   "metadata": {},
   "outputs": [],
   "source": [
    "try:\n",
    "    number = int(input(\"Enter a number: \"))\n",
    "except ValueError:\n",
    "    print(\"That's not a valid number!\")\n",
    "else: #optional\n",
    "    print(f\"You entered the number: {number}\")\n",
    "finally:\n",
    "    print('Thanks for using this app')"
   ]
  },
  {
   "cell_type": "code",
   "execution_count": null,
   "id": "5f19b163-c74c-4e63-91da-908086d2d61d",
   "metadata": {},
   "outputs": [],
   "source": [
    "Write a program to handle division of two numbers\n",
    "\n",
    "try:\n",
    "\n",
    "except ZeroDivisionError:\n",
    "\n",
    "except ValueError:\n",
    "\n",
    "else:\n",
    "\n",
    "finally:\n",
    "\n"
   ]
  },
  {
   "cell_type": "markdown",
   "id": "ba1e6df8-940b-4a47-8228-cc070c392147",
   "metadata": {},
   "source": [
    "Write a program that checks if a number is even or odd. \n",
    "If the user inputs a non-numeric value, display an error message. \n",
    "If the number is even, print \"Even\", otherwise print \"Odd\". Finally, always print \"Check complete\"."
   ]
  },
  {
   "cell_type": "markdown",
   "id": "1b917ce1-a674-4a12-9f22-f40c628e9727",
   "metadata": {},
   "source": [
    "Write a program that asks the user for an index and tries to access that index in a predefined list. Handle IndexError if the user enters an index that doesn't exist, and handle ValueError if the user inputs a non-numeric value."
   ]
  },
  {
   "cell_type": "code",
   "execution_count": null,
   "id": "039ad460-d572-40c1-b7d3-43751070a52f",
   "metadata": {},
   "outputs": [],
   "source": []
  },
  {
   "cell_type": "code",
   "execution_count": null,
   "id": "fafafee8-2443-46fe-8467-9fd708dac15d",
   "metadata": {},
   "outputs": [],
   "source": []
  },
  {
   "cell_type": "code",
   "execution_count": null,
   "id": "ea8baf58-997d-4a32-ba57-174f8492e52d",
   "metadata": {},
   "outputs": [],
   "source": []
  },
  {
   "cell_type": "code",
   "execution_count": null,
   "id": "95a78226-092d-4c68-b080-6a615ef19422",
   "metadata": {},
   "outputs": [],
   "source": []
  },
  {
   "cell_type": "code",
   "execution_count": null,
   "id": "888f3aa4-9c88-46ab-9f08-2c977b8471e5",
   "metadata": {},
   "outputs": [],
   "source": []
  },
  {
   "cell_type": "code",
   "execution_count": null,
   "id": "97282e7c-684a-4de2-af12-9cbecd92c124",
   "metadata": {},
   "outputs": [],
   "source": []
  },
  {
   "cell_type": "code",
   "execution_count": null,
   "id": "217cb1fa-fefa-406d-9e6e-fb884aad72c6",
   "metadata": {},
   "outputs": [],
   "source": []
  },
  {
   "cell_type": "code",
   "execution_count": null,
   "id": "e7f5f93f-2010-4ce5-aebf-6c7779333a92",
   "metadata": {},
   "outputs": [],
   "source": []
  },
  {
   "cell_type": "code",
   "execution_count": null,
   "id": "b08fe596-a089-4097-aff4-baebb5ec5cf8",
   "metadata": {},
   "outputs": [],
   "source": []
  },
  {
   "cell_type": "code",
   "execution_count": null,
   "id": "bacf9b0b-617b-4a39-8132-a41e98fe608f",
   "metadata": {},
   "outputs": [],
   "source": []
  },
  {
   "cell_type": "code",
   "execution_count": null,
   "id": "b39c5798-ee7a-4fbd-b2f4-f3ed420df7c6",
   "metadata": {},
   "outputs": [],
   "source": []
  },
  {
   "cell_type": "code",
   "execution_count": null,
   "id": "23c2d2ff-500e-4669-b088-f507ca5ebb64",
   "metadata": {},
   "outputs": [],
   "source": []
  },
  {
   "cell_type": "code",
   "execution_count": null,
   "id": "bc341c66-74d8-4f85-885b-d67c8edd6508",
   "metadata": {},
   "outputs": [],
   "source": []
  },
  {
   "cell_type": "code",
   "execution_count": null,
   "id": "3eb8f85f-072a-4154-b691-1b1e16c49561",
   "metadata": {},
   "outputs": [],
   "source": []
  },
  {
   "cell_type": "code",
   "execution_count": null,
   "id": "c042f2dc-5657-49e2-8e7b-6267cc417241",
   "metadata": {},
   "outputs": [],
   "source": []
  },
  {
   "cell_type": "code",
   "execution_count": null,
   "id": "c7bef52f-65e4-4d5d-9933-e145a00c93f3",
   "metadata": {},
   "outputs": [],
   "source": []
  },
  {
   "cell_type": "code",
   "execution_count": null,
   "id": "b11aa048-1ec1-4f73-81f6-3c45ac0f5624",
   "metadata": {},
   "outputs": [],
   "source": []
  },
  {
   "cell_type": "code",
   "execution_count": null,
   "id": "13de388c-4a63-4a6b-890f-704f46d47619",
   "metadata": {},
   "outputs": [],
   "source": []
  },
  {
   "cell_type": "code",
   "execution_count": null,
   "id": "b0054895-d7a5-402b-bad5-808624b2a587",
   "metadata": {},
   "outputs": [],
   "source": []
  },
  {
   "cell_type": "code",
   "execution_count": null,
   "id": "966750b8-18fa-42fa-8e16-ae2a879adde7",
   "metadata": {},
   "outputs": [],
   "source": []
  },
  {
   "cell_type": "code",
   "execution_count": null,
   "id": "a34f6321-a769-40b6-ba97-b3ae102a1b1b",
   "metadata": {},
   "outputs": [],
   "source": []
  },
  {
   "cell_type": "code",
   "execution_count": null,
   "id": "d855e0ba-00bc-49cc-b91b-a63a6b561b5c",
   "metadata": {},
   "outputs": [],
   "source": []
  },
  {
   "cell_type": "code",
   "execution_count": null,
   "id": "0a4a9958-de9e-4e78-8481-73096d1e6937",
   "metadata": {},
   "outputs": [],
   "source": []
  },
  {
   "cell_type": "code",
   "execution_count": null,
   "id": "ec5b615c-0be7-475e-b56d-19e84809b923",
   "metadata": {},
   "outputs": [],
   "source": []
  },
  {
   "cell_type": "code",
   "execution_count": null,
   "id": "3ef9157b-e404-416c-87c5-759efb613ce0",
   "metadata": {},
   "outputs": [],
   "source": []
  },
  {
   "cell_type": "code",
   "execution_count": null,
   "id": "2ed4dc44-1b69-424e-803e-15b16aa7b315",
   "metadata": {},
   "outputs": [],
   "source": []
  },
  {
   "cell_type": "code",
   "execution_count": null,
   "id": "2e0ba85a-2095-4df9-93fa-8f79627bbfbd",
   "metadata": {},
   "outputs": [],
   "source": []
  },
  {
   "cell_type": "code",
   "execution_count": null,
   "id": "823c7628-169f-4585-adea-0b6681826b7d",
   "metadata": {},
   "outputs": [],
   "source": []
  },
  {
   "cell_type": "code",
   "execution_count": null,
   "id": "5254f963-66a5-4ec6-b7b6-6f0fda307b05",
   "metadata": {},
   "outputs": [],
   "source": []
  },
  {
   "cell_type": "code",
   "execution_count": null,
   "id": "64969f3e-aee3-4ce9-ae22-dd66e57ec605",
   "metadata": {},
   "outputs": [],
   "source": []
  },
  {
   "cell_type": "code",
   "execution_count": null,
   "id": "a85147cb-d7e8-4103-a9bc-391a8a7c77c6",
   "metadata": {},
   "outputs": [],
   "source": []
  },
  {
   "cell_type": "code",
   "execution_count": null,
   "id": "f5cb122b-e248-45b7-8b58-1c37e5b9b390",
   "metadata": {},
   "outputs": [],
   "source": []
  },
  {
   "cell_type": "code",
   "execution_count": null,
   "id": "48f37e52-8126-4a68-82d8-3219d4d675ea",
   "metadata": {},
   "outputs": [],
   "source": []
  },
  {
   "cell_type": "code",
   "execution_count": null,
   "id": "6d7182bf-91f8-45e9-9496-f44df38c680d",
   "metadata": {},
   "outputs": [],
   "source": []
  },
  {
   "cell_type": "code",
   "execution_count": null,
   "id": "0f0b207e-c3e1-49cb-ab84-3a1469be17b3",
   "metadata": {},
   "outputs": [],
   "source": []
  },
  {
   "cell_type": "code",
   "execution_count": null,
   "id": "aa82f3e0-713c-47ab-9b02-043431ee28b6",
   "metadata": {},
   "outputs": [],
   "source": []
  },
  {
   "cell_type": "code",
   "execution_count": null,
   "id": "85a511be-6fcc-48a5-9cbc-45f2e1b5d0e5",
   "metadata": {},
   "outputs": [],
   "source": []
  },
  {
   "cell_type": "code",
   "execution_count": null,
   "id": "ee685393-cf18-4ba0-bbc6-8e1ce91b5917",
   "metadata": {},
   "outputs": [],
   "source": []
  },
  {
   "cell_type": "code",
   "execution_count": null,
   "id": "b77264f2-0b8d-4fb3-8518-04fafa0f2a9a",
   "metadata": {},
   "outputs": [],
   "source": [
    "try:\n",
    "    number = int(input(\"Enter a number: \"))\n",
    "    \n",
    "    if number % 2 == 0:\n",
    "        print(\"Even\")\n",
    "    else:\n",
    "        print(\"Odd\")\n",
    "except ValueError:\n",
    "    print(\"Error: Please enter a valid integer.\")\n",
    "finally:\n",
    "    print(\"Check complete.\")\n"
   ]
  },
  {
   "cell_type": "code",
   "execution_count": null,
   "id": "1662d83a-599b-4e9c-90bd-485d644a59c5",
   "metadata": {},
   "outputs": [],
   "source": [
    "my_list = [10, 20, 30, 40, 50]\n",
    "\n",
    "try:\n",
    "    index = int(input(\"Enter the index to access from the list: \"))\n",
    "    print(f\"The value at index {index} is {my_list[index]}\")\n",
    "except Exception as e:\n",
    "    print(\"error:\", e)\n",
    "except ValueError:\n",
    "    print(\"Error: Please enter a valid integer.\")\n",
    "finally:\n",
    "    print(\"Index access operation completed.\")"
   ]
  },
  {
   "cell_type": "code",
   "execution_count": null,
   "id": "689e50bb-4dff-408f-9548-0ec8bce2dafb",
   "metadata": {},
   "outputs": [],
   "source": []
  }
 ],
 "metadata": {
  "kernelspec": {
   "display_name": "Python 3 (ipykernel)",
   "language": "python",
   "name": "python3"
  },
  "language_info": {
   "codemirror_mode": {
    "name": "ipython",
    "version": 3
   },
   "file_extension": ".py",
   "mimetype": "text/x-python",
   "name": "python",
   "nbconvert_exporter": "python",
   "pygments_lexer": "ipython3",
   "version": "3.12.7"
  }
 },
 "nbformat": 4,
 "nbformat_minor": 5
}
